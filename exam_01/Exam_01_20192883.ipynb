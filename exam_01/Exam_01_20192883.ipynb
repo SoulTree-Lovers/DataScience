{
 "cells": [
  {
   "cell_type": "markdown",
   "id": "96bcf175",
   "metadata": {},
   "source": [
    "# DataScience Exam 01 \n",
    "## 20192883 강승민"
   ]
  },
  {
   "cell_type": "markdown",
   "id": "f4ea6c2b",
   "metadata": {},
   "source": [
    "### 데이터 명세\n",
    "- 4669개의 행 / 9개의 열\n",
    "- ID_USER: 유저의 id\n",
    "- USER_STATE: 유저가 있는 주의 이름\n",
    "- USER_TIMEZONE: 유저가 있는 곳의 time zone\n",
    "- ID_HOTEL: 호텔의 id\n",
    "- HOTEL_CITY: 호텔이 있는 도시의 이름\n",
    "- HOTEL_STATE: 호텔이 있는 주의 이름\n",
    "- HOTEL_TIMEZONE: 호텔이 있는 곳의 time zone\n",
    "- Trip Type: 여행 유형\n",
    "    - 1: 가족\n",
    "    - 2: 연인\n",
    "    - 3: 직장\n",
    "    - 4: 혼자\n",
    "    - 5: 친구\n",
    "- Rating: 평가 점수"
   ]
  },
  {
   "cell_type": "markdown",
   "id": "1939057c",
   "metadata": {},
   "source": [
    "### US Time Zone\n",
    "![nn](./TimeZone.png)"
   ]
  },
  {
   "cell_type": "markdown",
   "id": "090e7b7d",
   "metadata": {},
   "source": [
    "## 데이터 분석\n",
    "#### 1. 데이터 불러오기\n",
    "- Excel 형식 데이터 불러오기\n",
    "\n",
    "\n",
    "#### 2. 누락 데이터 확인\n",
    "- 누락된 데이터 없음\n",
    "\n",
    "\n",
    "#### 3. 중복 데이터 확인 및 삭제\n",
    "- 중복된 데이터 26개 삭제\n",
    "\n",
    "#### 4. Trip Type 속성 이름 바꾸기\n",
    "- 속성의 값들을 숫자에서 문자열로 매핑\n",
    "\n",
    "#### 5. 데이터 요약\n",
    "- 전체 데이터의 평가 점수 평균\n",
    "- 유저별 호텔 방문 횟수\n",
    "- 호텔별 방문 유저 수\n",
    "\n",
    "\n",
    "#### 6. 평점 분석\n",
    "- 각 평균 평점대별 호텔의 수\n",
    "- 호텔이 위치한 주별 평균 평점\n",
    "- 호텔이 위치한 도시별 평균 평점\n",
    "\n",
    "#### 7. 상관관계 분석\n",
    "- 호텔이 위치한 시간대와 여행 유형의 상관관계 분석\n",
    "- 호텔이 위치한 주와 여행 유형의 상관관계 분석\n",
    "- 유저 위치와 여행 유형의 상관관계 분석\n",
    "- 호텔 위치와 이용자 거주지 간의 상관 관계 분석\n",
    "- 여행 유형과 호텔 평가 점수 간의 상관 관계 분석\n",
    "\n",
    "\n",
    "#### 8. 유사성 분석\n",
    "1. 모든 행에 대해 USER_STATE와 HOTEL_STATE가 같은 지에 대한 열을 새로 만든다.\n",
    "    - IS_SAME_STATE\n",
    "\n",
    "    \n",
    "2. 전체 사용자 간의 유사성을 분석한다.\n",
    "    - 유사성은 전체 유저 간 평균으로 계산한다.\n",
    "\n",
    "\n",
    "3. 사는 곳과 다른 지역으로 여행을 가는 유저들의 유사성 분석\n",
    "    - 같은 STATE == True인 ID_USER_SAME_STATE 리스트를 만든다.\n",
    "    - ID_USER_SAME_STATE 리스트에 속한 유저들 간의 유사성을 분석한다.\n",
    "        - 유사성은 해당되는 유저 간 평균으로 계산한다.\n",
    "    \n",
    "    \n",
    "4. 사는 곳과 같은 지역으로 여행을 가는 유저들의 유사성 분석\n",
    "    - 같은 STATE == False인 ID_USER_DIFF_STATE 리스트를 만든다.\n",
    "    - ID_USER_DIFF_STATE 리스트에 속한 유저들 간의 유사성을 분석한다.\n",
    "        - 유사성은 해당되는 유저 간 평균으로 계산한다.\n",
    "    \n",
    "\n",
    "---\n",
    "    \n",
    "- 평균 평점이 5점 만점인 호텔의 수\n",
    "- 호텔 위치별(도시, 주) 평균 평가 점수\n",
    "- 여행 유형별 호텔 id, 호텔 위치(도시, 주), 호텔 time zone\n",
    "- 1인당 평균 방문 호텔 수 \n",
    "- 자신이 사는 주에 있는 호텔에 방문하는 유저는 주 내에 있는 호텔 위주로 방문한다.\n",
    "- 반대로, 다른 주에 있는 호텔에 방문하는 유저는 주로 다른 주에 있는 호텔 위주로 방문한다."
   ]
  },
  {
   "cell_type": "markdown",
   "id": "bc9e3d36",
   "metadata": {},
   "source": [
    "### 1. 데이터 불러오기"
   ]
  },
  {
   "cell_type": "code",
   "execution_count": 1,
   "id": "bbb0510c",
   "metadata": {
    "scrolled": true
   },
   "outputs": [
    {
     "data": {
      "text/html": [
       "<div>\n",
       "<style scoped>\n",
       "    .dataframe tbody tr th:only-of-type {\n",
       "        vertical-align: middle;\n",
       "    }\n",
       "\n",
       "    .dataframe tbody tr th {\n",
       "        vertical-align: top;\n",
       "    }\n",
       "\n",
       "    .dataframe thead th {\n",
       "        text-align: right;\n",
       "    }\n",
       "</style>\n",
       "<table border=\"1\" class=\"dataframe\">\n",
       "  <thead>\n",
       "    <tr style=\"text-align: right;\">\n",
       "      <th></th>\n",
       "      <th>ID_USER</th>\n",
       "      <th>USER_STATE</th>\n",
       "      <th>USER_TIMEZONE</th>\n",
       "      <th>ID_HOTEL</th>\n",
       "      <th>HOTEL_CITY</th>\n",
       "      <th>HOTEL_STATE</th>\n",
       "      <th>HOTEL_TIMEZONE</th>\n",
       "      <th>Trip Type</th>\n",
       "      <th>Rating</th>\n",
       "    </tr>\n",
       "  </thead>\n",
       "  <tbody>\n",
       "    <tr>\n",
       "      <th>0</th>\n",
       "      <td>45</td>\n",
       "      <td>GA</td>\n",
       "      <td>Eastern</td>\n",
       "      <td>105170</td>\n",
       "      <td>Memphis</td>\n",
       "      <td>TN</td>\n",
       "      <td>Central</td>\n",
       "      <td>3</td>\n",
       "      <td>5</td>\n",
       "    </tr>\n",
       "    <tr>\n",
       "      <th>1</th>\n",
       "      <td>45</td>\n",
       "      <td>GA</td>\n",
       "      <td>Eastern</td>\n",
       "      <td>223229</td>\n",
       "      <td>SanAntonio</td>\n",
       "      <td>TX</td>\n",
       "      <td>Central</td>\n",
       "      <td>3</td>\n",
       "      <td>5</td>\n",
       "    </tr>\n",
       "    <tr>\n",
       "      <th>2</th>\n",
       "      <td>45</td>\n",
       "      <td>GA</td>\n",
       "      <td>Eastern</td>\n",
       "      <td>258688</td>\n",
       "      <td>Albuquerque</td>\n",
       "      <td>NM</td>\n",
       "      <td>Mountain</td>\n",
       "      <td>3</td>\n",
       "      <td>5</td>\n",
       "    </tr>\n",
       "    <tr>\n",
       "      <th>3</th>\n",
       "      <td>45</td>\n",
       "      <td>GA</td>\n",
       "      <td>Eastern</td>\n",
       "      <td>98827</td>\n",
       "      <td>ELPaso</td>\n",
       "      <td>TX</td>\n",
       "      <td>Central</td>\n",
       "      <td>3</td>\n",
       "      <td>5</td>\n",
       "    </tr>\n",
       "    <tr>\n",
       "      <th>4</th>\n",
       "      <td>45</td>\n",
       "      <td>GA</td>\n",
       "      <td>Eastern</td>\n",
       "      <td>99518</td>\n",
       "      <td>SanAntonio</td>\n",
       "      <td>TX</td>\n",
       "      <td>Central</td>\n",
       "      <td>3</td>\n",
       "      <td>3</td>\n",
       "    </tr>\n",
       "    <tr>\n",
       "      <th>5</th>\n",
       "      <td>64</td>\n",
       "      <td>TX</td>\n",
       "      <td>Central</td>\n",
       "      <td>224427</td>\n",
       "      <td>Cleveland</td>\n",
       "      <td>OH</td>\n",
       "      <td>Eastern</td>\n",
       "      <td>1</td>\n",
       "      <td>4</td>\n",
       "    </tr>\n",
       "    <tr>\n",
       "      <th>6</th>\n",
       "      <td>64</td>\n",
       "      <td>TX</td>\n",
       "      <td>Central</td>\n",
       "      <td>1751886</td>\n",
       "      <td>Austin</td>\n",
       "      <td>TX</td>\n",
       "      <td>Central</td>\n",
       "      <td>3</td>\n",
       "      <td>4</td>\n",
       "    </tr>\n",
       "    <tr>\n",
       "      <th>7</th>\n",
       "      <td>64</td>\n",
       "      <td>TX</td>\n",
       "      <td>Central</td>\n",
       "      <td>99120</td>\n",
       "      <td>Houston</td>\n",
       "      <td>TX</td>\n",
       "      <td>Central</td>\n",
       "      <td>3</td>\n",
       "      <td>4</td>\n",
       "    </tr>\n",
       "    <tr>\n",
       "      <th>8</th>\n",
       "      <td>100</td>\n",
       "      <td>NY</td>\n",
       "      <td>Eastern</td>\n",
       "      <td>120111</td>\n",
       "      <td>Jacksonville</td>\n",
       "      <td>FL</td>\n",
       "      <td>Eastern</td>\n",
       "      <td>2</td>\n",
       "      <td>5</td>\n",
       "    </tr>\n",
       "    <tr>\n",
       "      <th>9</th>\n",
       "      <td>100</td>\n",
       "      <td>NY</td>\n",
       "      <td>Eastern</td>\n",
       "      <td>91428</td>\n",
       "      <td>Indianapolis</td>\n",
       "      <td>IN</td>\n",
       "      <td>Eastern</td>\n",
       "      <td>2</td>\n",
       "      <td>4</td>\n",
       "    </tr>\n",
       "  </tbody>\n",
       "</table>\n",
       "</div>"
      ],
      "text/plain": [
       "   ID_USER USER_STATE USER_TIMEZONE  ID_HOTEL    HOTEL_CITY HOTEL_STATE  \\\n",
       "0       45         GA       Eastern    105170       Memphis          TN   \n",
       "1       45         GA       Eastern    223229    SanAntonio          TX   \n",
       "2       45         GA       Eastern    258688   Albuquerque          NM   \n",
       "3       45         GA       Eastern     98827        ELPaso          TX   \n",
       "4       45         GA       Eastern     99518    SanAntonio          TX   \n",
       "5       64         TX       Central    224427     Cleveland          OH   \n",
       "6       64         TX       Central   1751886        Austin          TX   \n",
       "7       64         TX       Central     99120       Houston          TX   \n",
       "8      100         NY       Eastern    120111  Jacksonville          FL   \n",
       "9      100         NY       Eastern     91428  Indianapolis          IN   \n",
       "\n",
       "  HOTEL_TIMEZONE  Trip Type  Rating  \n",
       "0        Central          3       5  \n",
       "1        Central          3       5  \n",
       "2       Mountain          3       5  \n",
       "3        Central          3       5  \n",
       "4        Central          3       3  \n",
       "5        Eastern          1       4  \n",
       "6        Central          3       4  \n",
       "7        Central          3       4  \n",
       "8        Eastern          2       5  \n",
       "9        Eastern          2       4  "
      ]
     },
     "execution_count": 1,
     "metadata": {},
     "output_type": "execute_result"
    }
   ],
   "source": [
    "# -*- coding: utf-8 -*-\n",
    "import numpy as np\n",
    "# pandas 불러오기 \n",
    "import pandas as pd\n",
    "\n",
    "# 데이터 모든 행과 열 출력하기 (누락 데이터를 눈으로 확인하기 위함)\n",
    "# pd.set_option('display.max_columns', None)\n",
    "# pd.set_option('display.max_rows', None)\n",
    "\n",
    "# 엑셀 파일 읽기 (같은 디렉토리 안에 위치)\n",
    "df = pd.read_excel('./exam_data.xls')            # header=0 (default 옵션)\n",
    "\n",
    "df.head(10)"
   ]
  },
  {
   "cell_type": "markdown",
   "id": "7e71bf85",
   "metadata": {},
   "source": [
    "#### Reason\n",
    "- 데이터를 엑셀 형식으로 불러와서 제대로 업로드 되었는지 상위 10개 행만 출력하여 확인해본다."
   ]
  },
  {
   "cell_type": "markdown",
   "id": "0f7eef44",
   "metadata": {},
   "source": [
    "### 2. 누락 데이터 확인"
   ]
  },
  {
   "cell_type": "code",
   "execution_count": 2,
   "id": "d99c29ef",
   "metadata": {},
   "outputs": [
    {
     "name": "stdout",
     "output_type": "stream",
     "text": [
      "ID_USER           0\n",
      "USER_STATE        0\n",
      "USER_TIMEZONE     0\n",
      "ID_HOTEL          0\n",
      "HOTEL_CITY        0\n",
      "HOTEL_STATE       0\n",
      "HOTEL_TIMEZONE    0\n",
      "Trip Type         0\n",
      "Rating            0\n",
      "dtype: int64\n"
     ]
    }
   ],
   "source": [
    "# isnull() 메소드를 통해 각 열의 누락 데이터 개수 세기\n",
    "print(df.isnull().sum(axis=0))"
   ]
  },
  {
   "cell_type": "markdown",
   "id": "92ed9fa3",
   "metadata": {},
   "source": [
    "#### Reason\n",
    "- 비어있는 값은 데이터를 분석할 때 오류를 발생시킬 가능성이 높기 때문에 제거하는 것이 좋다.\n",
    "- 해당 데이터에는 모든 속성에 비어있는 값이 없기 때문에 누락 데이터 처리 과정은 생략한다."
   ]
  },
  {
   "cell_type": "markdown",
   "id": "82750e8f",
   "metadata": {},
   "source": [
    "### 3. 중복 데이터 확인"
   ]
  },
  {
   "cell_type": "code",
   "execution_count": 3,
   "id": "3c784a7a",
   "metadata": {},
   "outputs": [
    {
     "data": {
      "text/plain": [
       "0    False\n",
       "1    False\n",
       "2    False\n",
       "3    False\n",
       "4    False\n",
       "dtype: bool"
      ]
     },
     "execution_count": 3,
     "metadata": {},
     "output_type": "execute_result"
    }
   ],
   "source": [
    "# duplicated() 메소드를 활용하여 모든 속성에 대해 중복된 데이터 확인 \n",
    "dup = df.duplicated() # default: 모든 속성에 대해 확인\n",
    "dup.head()"
   ]
  },
  {
   "cell_type": "code",
   "execution_count": 4,
   "id": "5b2ebdaf",
   "metadata": {},
   "outputs": [
    {
     "data": {
      "text/plain": [
       "4669"
      ]
     },
     "execution_count": 4,
     "metadata": {},
     "output_type": "execute_result"
    }
   ],
   "source": [
    "# 중복 데이터 제거 전 데이터 개수 확인: 4669개\n",
    "len(df)"
   ]
  },
  {
   "cell_type": "code",
   "execution_count": 5,
   "id": "ed4bba01",
   "metadata": {},
   "outputs": [],
   "source": [
    "# drop_duplicates() 메소드를 활용하여 중복된 데이터 제거\n",
    "df = df.drop_duplicates()"
   ]
  },
  {
   "cell_type": "code",
   "execution_count": 6,
   "id": "ad747612",
   "metadata": {
    "scrolled": true
   },
   "outputs": [
    {
     "data": {
      "text/plain": [
       "4643"
      ]
     },
     "execution_count": 6,
     "metadata": {},
     "output_type": "execute_result"
    }
   ],
   "source": [
    "# 중복 데이터 제거 후 데이터 개수 확인: 4643개 (26개 삭제)\n",
    "len(df)"
   ]
  },
  {
   "cell_type": "markdown",
   "id": "8f39b9fb",
   "metadata": {},
   "source": [
    "#### Reason\n",
    "- 해당 과제에서 중복된 데이터는 이상치라고 가정한다. (다시 말해, 한 사람이 같은 곳에 같은 사람들과 같은 평점을 남기지 않는다고 가정한다.)\n",
    "- 중복된 데이터는 데이터 분석 시 데이터의 편향을 높일 수 있기 때문에 제거하는 것이 좋다."
   ]
  },
  {
   "cell_type": "markdown",
   "id": "f42a11bd",
   "metadata": {},
   "source": [
    "### 4. Trip Type 속성 이름 바꾸기"
   ]
  },
  {
   "cell_type": "code",
   "execution_count": 7,
   "id": "d93e5751",
   "metadata": {},
   "outputs": [],
   "source": [
    "# Trip Type 속성의 값들을 (숫자 -> 문자열)로 타입 변경\n",
    "df['Trip Type'] = df['Trip Type'].astype(str)"
   ]
  },
  {
   "cell_type": "code",
   "execution_count": 8,
   "id": "54663162",
   "metadata": {},
   "outputs": [],
   "source": [
    "# 바꿀 이름 설정 {기존 이름: 새 이름}\n",
    "new_trip_name = {'1': 'Family', '2': 'Coouples', '3': 'Business', '4': 'Solo travel', '5': 'Friends'}"
   ]
  },
  {
   "cell_type": "code",
   "execution_count": 9,
   "id": "c9629dfd",
   "metadata": {},
   "outputs": [
    {
     "data": {
      "text/html": [
       "<div>\n",
       "<style scoped>\n",
       "    .dataframe tbody tr th:only-of-type {\n",
       "        vertical-align: middle;\n",
       "    }\n",
       "\n",
       "    .dataframe tbody tr th {\n",
       "        vertical-align: top;\n",
       "    }\n",
       "\n",
       "    .dataframe thead th {\n",
       "        text-align: right;\n",
       "    }\n",
       "</style>\n",
       "<table border=\"1\" class=\"dataframe\">\n",
       "  <thead>\n",
       "    <tr style=\"text-align: right;\">\n",
       "      <th></th>\n",
       "      <th>ID_USER</th>\n",
       "      <th>USER_STATE</th>\n",
       "      <th>USER_TIMEZONE</th>\n",
       "      <th>ID_HOTEL</th>\n",
       "      <th>HOTEL_CITY</th>\n",
       "      <th>HOTEL_STATE</th>\n",
       "      <th>HOTEL_TIMEZONE</th>\n",
       "      <th>Trip Type</th>\n",
       "      <th>Rating</th>\n",
       "    </tr>\n",
       "  </thead>\n",
       "  <tbody>\n",
       "    <tr>\n",
       "      <th>0</th>\n",
       "      <td>45</td>\n",
       "      <td>GA</td>\n",
       "      <td>Eastern</td>\n",
       "      <td>105170</td>\n",
       "      <td>Memphis</td>\n",
       "      <td>TN</td>\n",
       "      <td>Central</td>\n",
       "      <td>Business</td>\n",
       "      <td>5</td>\n",
       "    </tr>\n",
       "    <tr>\n",
       "      <th>1</th>\n",
       "      <td>45</td>\n",
       "      <td>GA</td>\n",
       "      <td>Eastern</td>\n",
       "      <td>223229</td>\n",
       "      <td>SanAntonio</td>\n",
       "      <td>TX</td>\n",
       "      <td>Central</td>\n",
       "      <td>Business</td>\n",
       "      <td>5</td>\n",
       "    </tr>\n",
       "    <tr>\n",
       "      <th>2</th>\n",
       "      <td>45</td>\n",
       "      <td>GA</td>\n",
       "      <td>Eastern</td>\n",
       "      <td>258688</td>\n",
       "      <td>Albuquerque</td>\n",
       "      <td>NM</td>\n",
       "      <td>Mountain</td>\n",
       "      <td>Business</td>\n",
       "      <td>5</td>\n",
       "    </tr>\n",
       "    <tr>\n",
       "      <th>3</th>\n",
       "      <td>45</td>\n",
       "      <td>GA</td>\n",
       "      <td>Eastern</td>\n",
       "      <td>98827</td>\n",
       "      <td>ELPaso</td>\n",
       "      <td>TX</td>\n",
       "      <td>Central</td>\n",
       "      <td>Business</td>\n",
       "      <td>5</td>\n",
       "    </tr>\n",
       "    <tr>\n",
       "      <th>4</th>\n",
       "      <td>45</td>\n",
       "      <td>GA</td>\n",
       "      <td>Eastern</td>\n",
       "      <td>99518</td>\n",
       "      <td>SanAntonio</td>\n",
       "      <td>TX</td>\n",
       "      <td>Central</td>\n",
       "      <td>Business</td>\n",
       "      <td>3</td>\n",
       "    </tr>\n",
       "    <tr>\n",
       "      <th>5</th>\n",
       "      <td>64</td>\n",
       "      <td>TX</td>\n",
       "      <td>Central</td>\n",
       "      <td>224427</td>\n",
       "      <td>Cleveland</td>\n",
       "      <td>OH</td>\n",
       "      <td>Eastern</td>\n",
       "      <td>Family</td>\n",
       "      <td>4</td>\n",
       "    </tr>\n",
       "    <tr>\n",
       "      <th>6</th>\n",
       "      <td>64</td>\n",
       "      <td>TX</td>\n",
       "      <td>Central</td>\n",
       "      <td>1751886</td>\n",
       "      <td>Austin</td>\n",
       "      <td>TX</td>\n",
       "      <td>Central</td>\n",
       "      <td>Business</td>\n",
       "      <td>4</td>\n",
       "    </tr>\n",
       "    <tr>\n",
       "      <th>7</th>\n",
       "      <td>64</td>\n",
       "      <td>TX</td>\n",
       "      <td>Central</td>\n",
       "      <td>99120</td>\n",
       "      <td>Houston</td>\n",
       "      <td>TX</td>\n",
       "      <td>Central</td>\n",
       "      <td>Business</td>\n",
       "      <td>4</td>\n",
       "    </tr>\n",
       "    <tr>\n",
       "      <th>8</th>\n",
       "      <td>100</td>\n",
       "      <td>NY</td>\n",
       "      <td>Eastern</td>\n",
       "      <td>120111</td>\n",
       "      <td>Jacksonville</td>\n",
       "      <td>FL</td>\n",
       "      <td>Eastern</td>\n",
       "      <td>Coouples</td>\n",
       "      <td>5</td>\n",
       "    </tr>\n",
       "    <tr>\n",
       "      <th>9</th>\n",
       "      <td>100</td>\n",
       "      <td>NY</td>\n",
       "      <td>Eastern</td>\n",
       "      <td>91428</td>\n",
       "      <td>Indianapolis</td>\n",
       "      <td>IN</td>\n",
       "      <td>Eastern</td>\n",
       "      <td>Coouples</td>\n",
       "      <td>4</td>\n",
       "    </tr>\n",
       "  </tbody>\n",
       "</table>\n",
       "</div>"
      ],
      "text/plain": [
       "   ID_USER USER_STATE USER_TIMEZONE  ID_HOTEL    HOTEL_CITY HOTEL_STATE  \\\n",
       "0       45         GA       Eastern    105170       Memphis          TN   \n",
       "1       45         GA       Eastern    223229    SanAntonio          TX   \n",
       "2       45         GA       Eastern    258688   Albuquerque          NM   \n",
       "3       45         GA       Eastern     98827        ELPaso          TX   \n",
       "4       45         GA       Eastern     99518    SanAntonio          TX   \n",
       "5       64         TX       Central    224427     Cleveland          OH   \n",
       "6       64         TX       Central   1751886        Austin          TX   \n",
       "7       64         TX       Central     99120       Houston          TX   \n",
       "8      100         NY       Eastern    120111  Jacksonville          FL   \n",
       "9      100         NY       Eastern     91428  Indianapolis          IN   \n",
       "\n",
       "  HOTEL_TIMEZONE Trip Type  Rating  \n",
       "0        Central  Business       5  \n",
       "1        Central  Business       5  \n",
       "2       Mountain  Business       5  \n",
       "3        Central  Business       5  \n",
       "4        Central  Business       3  \n",
       "5        Eastern    Family       4  \n",
       "6        Central  Business       4  \n",
       "7        Central  Business       4  \n",
       "8        Eastern  Coouples       5  \n",
       "9        Eastern  Coouples       4  "
      ]
     },
     "execution_count": 9,
     "metadata": {},
     "output_type": "execute_result"
    }
   ],
   "source": [
    "# 미리 설정한 딕셔너리를 통해 새로운 이름으로 매핑\n",
    "df['Trip Type'] = df['Trip Type'].map(new_trip_name)\n",
    "df.head(10)"
   ]
  },
  {
   "cell_type": "markdown",
   "id": "ad9a3688",
   "metadata": {},
   "source": [
    "#### Reason\n",
    "- Trip Type 속성이 기존대로라면, 숫자들이 무엇을 의미하는 지 전혀 예측할 수 없다.\n",
    "- 속성의 값들의 이름을 변경함으로써 각 여행 유형이 무엇을 나타내는 지 명확하게 알 수 있다.\n",
    "- 속성의 값들이 나타내는 의미는 다음과 같다.\n",
    "    - 1 : 가족과 여행\n",
    "    - 2 : 연인과 여행\n",
    "    - 3 : 출장\n",
    "    - 4 : 혼자 여행\n",
    "    - 5 : 친구들과 여행"
   ]
  },
  {
   "cell_type": "markdown",
   "id": "e80d26c5",
   "metadata": {},
   "source": [
    "### 5. 데이터 요약"
   ]
  },
  {
   "cell_type": "code",
   "execution_count": 10,
   "id": "dacf4dc9",
   "metadata": {},
   "outputs": [
    {
     "name": "stdout",
     "output_type": "stream",
     "text": [
      "<class 'pandas.core.frame.DataFrame'>\n",
      "Int64Index: 4643 entries, 0 to 4668\n",
      "Data columns (total 9 columns):\n",
      " #   Column          Non-Null Count  Dtype \n",
      "---  ------          --------------  ----- \n",
      " 0   ID_USER         4643 non-null   int64 \n",
      " 1   USER_STATE      4643 non-null   object\n",
      " 2   USER_TIMEZONE   4643 non-null   object\n",
      " 3   ID_HOTEL        4643 non-null   int64 \n",
      " 4   HOTEL_CITY      4643 non-null   object\n",
      " 5   HOTEL_STATE     4643 non-null   object\n",
      " 6   HOTEL_TIMEZONE  4643 non-null   object\n",
      " 7   Trip Type       4643 non-null   object\n",
      " 8   Rating          4643 non-null   int64 \n",
      "dtypes: int64(3), object(6)\n",
      "memory usage: 362.7+ KB\n"
     ]
    }
   ],
   "source": [
    "# 데이터프레임의 기본 정보\n",
    "df.info()"
   ]
  },
  {
   "cell_type": "code",
   "execution_count": 11,
   "id": "e9c9c07e",
   "metadata": {},
   "outputs": [
    {
     "data": {
      "text/html": [
       "<div>\n",
       "<style scoped>\n",
       "    .dataframe tbody tr th:only-of-type {\n",
       "        vertical-align: middle;\n",
       "    }\n",
       "\n",
       "    .dataframe tbody tr th {\n",
       "        vertical-align: top;\n",
       "    }\n",
       "\n",
       "    .dataframe thead th {\n",
       "        text-align: right;\n",
       "    }\n",
       "</style>\n",
       "<table border=\"1\" class=\"dataframe\">\n",
       "  <thead>\n",
       "    <tr style=\"text-align: right;\">\n",
       "      <th></th>\n",
       "      <th>ID_USER</th>\n",
       "      <th>ID_HOTEL</th>\n",
       "      <th>Rating</th>\n",
       "    </tr>\n",
       "  </thead>\n",
       "  <tbody>\n",
       "    <tr>\n",
       "      <th>count</th>\n",
       "      <td>4643.000000</td>\n",
       "      <td>4.643000e+03</td>\n",
       "      <td>4643.000000</td>\n",
       "    </tr>\n",
       "    <tr>\n",
       "      <th>mean</th>\n",
       "      <td>32788.116519</td>\n",
       "      <td>3.008667e+05</td>\n",
       "      <td>3.628042</td>\n",
       "    </tr>\n",
       "    <tr>\n",
       "      <th>std</th>\n",
       "      <td>18862.912513</td>\n",
       "      <td>3.928865e+05</td>\n",
       "      <td>1.078623</td>\n",
       "    </tr>\n",
       "    <tr>\n",
       "      <th>min</th>\n",
       "      <td>45.000000</td>\n",
       "      <td>7.233900e+04</td>\n",
       "      <td>1.000000</td>\n",
       "    </tr>\n",
       "    <tr>\n",
       "      <th>25%</th>\n",
       "      <td>16292.000000</td>\n",
       "      <td>9.420600e+04</td>\n",
       "      <td>3.000000</td>\n",
       "    </tr>\n",
       "    <tr>\n",
       "      <th>50%</th>\n",
       "      <td>33018.000000</td>\n",
       "      <td>1.095150e+05</td>\n",
       "      <td>4.000000</td>\n",
       "    </tr>\n",
       "    <tr>\n",
       "      <th>75%</th>\n",
       "      <td>49609.500000</td>\n",
       "      <td>2.440030e+05</td>\n",
       "      <td>4.000000</td>\n",
       "    </tr>\n",
       "    <tr>\n",
       "      <th>max</th>\n",
       "      <td>65457.000000</td>\n",
       "      <td>2.151986e+06</td>\n",
       "      <td>5.000000</td>\n",
       "    </tr>\n",
       "  </tbody>\n",
       "</table>\n",
       "</div>"
      ],
      "text/plain": [
       "            ID_USER      ID_HOTEL       Rating\n",
       "count   4643.000000  4.643000e+03  4643.000000\n",
       "mean   32788.116519  3.008667e+05     3.628042\n",
       "std    18862.912513  3.928865e+05     1.078623\n",
       "min       45.000000  7.233900e+04     1.000000\n",
       "25%    16292.000000  9.420600e+04     3.000000\n",
       "50%    33018.000000  1.095150e+05     4.000000\n",
       "75%    49609.500000  2.440030e+05     4.000000\n",
       "max    65457.000000  2.151986e+06     5.000000"
      ]
     },
     "execution_count": 11,
     "metadata": {},
     "output_type": "execute_result"
    }
   ],
   "source": [
    "# 데이터프레임의 기술 통계 정보 요약 (숫자 데이터만 해당)\n",
    "df_des = df.describe() \n",
    "df_des"
   ]
  },
  {
   "cell_type": "markdown",
   "id": "b7162a10",
   "metadata": {},
   "source": [
    "- 평가 점수 평균이 약 3.62점이라는 것을 알 수 있다.\n",
    "- 나머지 데이터는 크게 의미가 없는 통계치이다."
   ]
  },
  {
   "cell_type": "code",
   "execution_count": 12,
   "id": "57680375",
   "metadata": {},
   "outputs": [
    {
     "data": {
      "text/plain": [
       "27783    18\n",
       "13087    16\n",
       "40423    16\n",
       "17535    12\n",
       "49098    12\n",
       "Name: ID_USER, dtype: int64"
      ]
     },
     "execution_count": 12,
     "metadata": {},
     "output_type": "execute_result"
    }
   ],
   "source": [
    "# 유저별 호텔 방문 횟수\n",
    "df[\"ID_USER\"].value_counts().head()"
   ]
  },
  {
   "cell_type": "markdown",
   "id": "eac47f3d",
   "metadata": {},
   "source": [
    "- 27783이라는 id를 가진 유저가 18번의 호텔 방문으로 가장 많은 횟수를 방문하였다."
   ]
  },
  {
   "cell_type": "code",
   "execution_count": 13,
   "id": "5e05e3ac",
   "metadata": {},
   "outputs": [
    {
     "data": {
      "text/plain": [
       "100603    13\n",
       "86320     12\n",
       "98117     12\n",
       "224241    12\n",
       "111855    11\n",
       "Name: ID_HOTEL, dtype: int64"
      ]
     },
     "execution_count": 13,
     "metadata": {},
     "output_type": "execute_result"
    }
   ],
   "source": [
    "# 호텔별 방문 유저 수\n",
    "df[\"ID_HOTEL\"].value_counts().head()"
   ]
  },
  {
   "cell_type": "markdown",
   "id": "a2b5fabe",
   "metadata": {},
   "source": [
    "- 100603이라는 id를 가진 호텔이 13번의 방문으로 가장 많은 방문 횟수를 가진다."
   ]
  },
  {
   "cell_type": "markdown",
   "id": "aba63f50",
   "metadata": {},
   "source": [
    "#### Reason\n",
    "- 데이터의 전체적인 정보를 알아보는 것은 중요하다. 정보의 유형에 따라 범주형/연속형 데이터로 분류할 수 있다. \n",
    "    - 만약 Rating 속성이 숫자가 아닌 문자열로 되어있다면 숫자 계산을 할 수 있도록 숫자형으로 바꿔주어야 한다.\n",
    "    \n",
    "    \n",
    "- 데이터 통계를 알아보면 전체적인 데이터의 흐름을 이해할 수 있다. \n",
    "    - 한 명의 유저가 최대 몇 번이나 호텔을 방문했는 지, 하나의 호텔이 몇 명의 방문자가 있었는 지를 대략적으로 파악하면 데이터를 이해하기 수월해진다."
   ]
  },
  {
   "cell_type": "markdown",
   "id": "5f140ed3",
   "metadata": {},
   "source": [
    "### 6. 평점 분석"
   ]
  },
  {
   "cell_type": "code",
   "execution_count": 14,
   "id": "672f31ca",
   "metadata": {},
   "outputs": [],
   "source": [
    "# 필요한 라이브러리를 불러온다.\n",
    "import matplotlib.pyplot as plt\n",
    "import seaborn as sns"
   ]
  },
  {
   "cell_type": "code",
   "execution_count": 15,
   "id": "33eb72c0",
   "metadata": {},
   "outputs": [
    {
     "name": "stdout",
     "output_type": "stream",
     "text": [
      "평점이 5점인 호텔의 수는 163 곳이다.\n",
      "평점이 4점대인 호텔의 수는 675 곳이다.\n",
      "평점이 3점대인 호텔의 수는 715 곳이다.\n",
      "평점이 2점대인 호텔의 수는 237 곳이다.\n",
      "평점이 1점대인 호텔의 수는 100 곳이다.\n",
      "평점이 0점대인 호텔의 수는 0 곳이다.\n"
     ]
    }
   ],
   "source": [
    "# 평균 평점이 5점인 호텔의 수\n",
    "df_rating = df.groupby('ID_HOTEL').mean()\n",
    "df_rating_5 = len(df_rating[df_rating['Rating'] == 5])\n",
    "df_rating_4_to_5 = len(df_rating[df_rating['Rating'] < 5]) - len(df_rating[df_rating['Rating'] < 4])\n",
    "df_rating_3_to_4 = len(df_rating[df_rating['Rating'] < 4]) - len(df_rating[df_rating['Rating'] < 3])\n",
    "df_rating_2_to_3 = len(df_rating[df_rating['Rating'] < 3]) - len(df_rating[df_rating['Rating'] < 2])\n",
    "df_rating_1_to_2 = len(df_rating[df_rating['Rating'] < 2]) - len(df_rating[df_rating['Rating'] < 1])\n",
    "df_rating_0_to_1 = len(df_rating[df_rating['Rating'] < 1])\n",
    "\n",
    "print(\"평점이 5점인 호텔의 수는 {} 곳이다.\".format(df_rating_5))\n",
    "print(\"평점이 4점대인 호텔의 수는 {} 곳이다.\".format(df_rating_4_to_5))\n",
    "print(\"평점이 3점대인 호텔의 수는 {} 곳이다.\".format(df_rating_3_to_4))\n",
    "print(\"평점이 2점대인 호텔의 수는 {} 곳이다.\".format(df_rating_2_to_3))\n",
    "print(\"평점이 1점대인 호텔의 수는 {} 곳이다.\".format(df_rating_1_to_2))\n",
    "print(\"평점이 0점대인 호텔의 수는 {} 곳이다.\".format(df_rating_0_to_1))"
   ]
  },
  {
   "cell_type": "code",
   "execution_count": 16,
   "id": "26293d89",
   "metadata": {},
   "outputs": [],
   "source": [
    "# 각 평점대별 호텔 수 막대 그래프\n",
    "rating_row = [\"0\", \"1\", \"2\", \"3\", \"4\", \"5\"]\n",
    "rating_col = [df_rating_0_to_1, df_rating_1_to_2, df_rating_2_to_3, df_rating_3_to_4, df_rating_4_to_5, df_rating_5]"
   ]
  },
  {
   "cell_type": "code",
   "execution_count": 17,
   "id": "cf3fa095",
   "metadata": {},
   "outputs": [
    {
     "data": {
      "image/png": "[encoded data removed]",
      "text/plain": [
       "<Figure size 432x288 with 1 Axes>"
      ]
     },
     "metadata": {
      "needs_background": "light"
     },
     "output_type": "display_data"
    }
   ],
   "source": [
    "# x축: 평점대, y축: 호텔의 수\n",
    "plt.bar(rating_row, rating_col)\n",
    "plt.show()"
   ]
  },
  {
   "cell_type": "code",
   "execution_count": 18,
   "id": "b01db973",
   "metadata": {},
   "outputs": [
    {
     "data": {
      "image/png": "[encoded data removed]",
      "text/plain": [
       "<Figure size 432x288 with 1 Axes>"
      ]
     },
     "metadata": {
      "needs_background": "light"
     },
     "output_type": "display_data"
    }
   ],
   "source": [
    "# 각 호텔의 평균 평가 점수 구하기\n",
    "hotel_rating_mean = df.groupby('ID_HOTEL')['Rating'].mean()\n",
    "\n",
    "# 히스토그램으로 시각화\n",
    "plt.hist(hotel_rating_mean, bins=8, rwidth=0.8)\n",
    "plt.xlabel('Average Rating')\n",
    "plt.ylabel('Frequency')\n",
    "plt.show()"
   ]
  },
  {
   "cell_type": "markdown",
   "id": "0229536e",
   "metadata": {},
   "source": [
    "#### Reason\n",
    "- 평균 평가 점수에 따른 호텔의 수를 파악하여 평점 데이터의 분포를 파악한다.\n",
    "- 호텔 ID로 그룹화하여 각 호텔이 받은 평점의 평균을 기준으로 잡는다.\n",
    "- 확인 결과, 데이터가 편향되어 있지 않음을 확인할 수 있다. (무분별한 평점 난발은 없다.)\n",
    "- 3점대의 평가 점수를 가진 호텔이 가장 많았다. "
   ]
  },
  {
   "cell_type": "code",
   "execution_count": 19,
   "id": "c1977dea",
   "metadata": {},
   "outputs": [
    {
     "data": {
      "text/plain": [
       "HOTEL_STATE\n",
       "AZ    3.591281\n",
       "CA    3.523992\n",
       "CO    3.582524\n",
       "FL    3.817518\n",
       "GA    3.628049\n",
       "IL    3.571429\n",
       "IN    3.698925\n",
       "KS    3.692913\n",
       "KY    3.601626\n",
       "MA    4.500000\n",
       "MD    3.285714\n",
       "MI    3.764706\n",
       "MN    3.690476\n",
       "NC    3.625532\n",
       "NE    3.761905\n",
       "NM    3.492891\n",
       "NV    3.696629\n",
       "NY    4.333333\n",
       "OH    3.599078\n",
       "OK    3.745645\n",
       "OR    3.482759\n",
       "PA    3.636364\n",
       "TN    3.660793\n",
       "TX    3.636285\n",
       "VA    3.518519\n",
       "WA    3.550000\n",
       "WI    3.608696\n",
       "Name: Rating, dtype: float64"
      ]
     },
     "execution_count": 19,
     "metadata": {},
     "output_type": "execute_result"
    }
   ],
   "source": [
    "# 호텔이 위치한 주별 평균 평점\n",
    "df_rating = df.groupby('HOTEL_STATE').mean()\n",
    "df_rating = df_rating['Rating']\n",
    "df_rating"
   ]
  },
  {
   "cell_type": "code",
   "execution_count": 20,
   "id": "051303ab",
   "metadata": {},
   "outputs": [
    {
     "data": {
      "image/png": "[encoded data removed]",
      "text/plain": [
       "<Figure size 1440x720 with 1 Axes>"
      ]
     },
     "metadata": {
      "needs_background": "light"
     },
     "output_type": "display_data"
    }
   ],
   "source": [
    "# 막대 그래프 그리기\n",
    "df_rating.plot(kind=\"bar\", figsize=(20, 10), width=0.7)\n",
    "plt.ylabel(\"Rating\", size=20)\n",
    "plt.xlabel(\"HOTEL_STATE\", size=20)\n",
    "plt.show()"
   ]
  },
  {
   "cell_type": "markdown",
   "id": "a5ee2458",
   "metadata": {},
   "source": [
    "- 호텔이 위치한 주별 평균 평가 점수는 다음과 같이 나타났다.\n",
    "- 호텔이 위치한 주 중 평균 평가 점수가 가장 높은 곳은 MA이다."
   ]
  },
  {
   "cell_type": "code",
   "execution_count": 21,
   "id": "8819308a",
   "metadata": {},
   "outputs": [
    {
     "data": {
      "text/plain": [
       "HOTEL_CITY\n",
       "Albuquerque      3.492891\n",
       "Arlington        3.481481\n",
       "Atlanta          3.628049\n",
       "Austin           3.646809\n",
       "Baltimore        3.285714\n",
       "Boston           4.500000\n",
       "Charlotte        3.634731\n",
       "Chicago          3.571429\n",
       "Cleveland        4.100000\n",
       "Columbus         3.574879\n",
       "Dallas           3.755556\n",
       "Denver           3.582524\n",
       "Detroit          4.428571\n",
       "ELPaso           3.625000\n",
       "FortWorth        3.844156\n",
       "Fresno           3.630137\n",
       "Houston          3.608553\n",
       "Indianapolis     3.698925\n",
       "Jacksonville     3.817518\n",
       "Kansas           3.714286\n",
       "LasVegas         3.696629\n",
       "LongBeach        3.464286\n",
       "LosAngeles       3.078947\n",
       "Louisville       3.601626\n",
       "Memphis          3.712871\n",
       "Mesa             3.666667\n",
       "Miami            3.659091\n",
       "Milwaukee        3.608696\n",
       "Minneapolis      3.690476\n",
       "Nashville        3.619048\n",
       "NewYork          4.333333\n",
       "Oakland          3.583333\n",
       "OklahomaCity     3.952941\n",
       "Omaha            3.761905\n",
       "Philadelphia     3.636364\n",
       "Phoenix          3.559322\n",
       "Portland         3.482759\n",
       "Raleigh          3.602941\n",
       "Sacramento       3.661654\n",
       "SanAntonio       3.569106\n",
       "SanDiego         3.626374\n",
       "SanFrancisco     3.035714\n",
       "SanJose          3.732143\n",
       "Seattle          3.550000\n",
       "Tucson           3.610390\n",
       "Tulsa            3.444444\n",
       "VirginiaBeach    3.518519\n",
       "Wichita          3.691667\n",
       "Name: Rating, dtype: float64"
      ]
     },
     "execution_count": 21,
     "metadata": {},
     "output_type": "execute_result"
    }
   ],
   "source": [
    "# 호텔이 위치한 도시별 평균 평점\n",
    "df_rating = df.groupby('HOTEL_CITY').mean()\n",
    "df_rating = df_rating['Rating']\n",
    "df_rating"
   ]
  },
  {
   "cell_type": "code",
   "execution_count": 22,
   "id": "eab95c78",
   "metadata": {},
   "outputs": [
    {
     "data": {
      "image/png": "[encoded data removed]",
      "text/plain": [
       "<Figure size 1440x720 with 1 Axes>"
      ]
     },
     "metadata": {
      "needs_background": "light"
     },
     "output_type": "display_data"
    }
   ],
   "source": [
    "# 막대 그래프 그리기\n",
    "df_rating.plot(kind=\"bar\", figsize=(20, 10), width=0.7)\n",
    "plt.ylabel(\"Rating\", size=20)\n",
    "plt.xlabel(\"HOTEL_CITY\", size=20)\n",
    "plt.show()"
   ]
  },
  {
   "cell_type": "markdown",
   "id": "5e669af4",
   "metadata": {},
   "source": [
    "- 호텔이 위치한 도시별 평균 평가 점수는 다음과 같이 나타났다.\n",
    "- 호텔이 위치한 도시 중 평균 평가 점수가 가장 높은 곳은 Boston이다."
   ]
  },
  {
   "cell_type": "markdown",
   "id": "97fd38c6",
   "metadata": {},
   "source": [
    "### 7. 상관관계 분석"
   ]
  },
  {
   "cell_type": "code",
   "execution_count": 23,
   "id": "c71ecf9d",
   "metadata": {},
   "outputs": [
    {
     "data": {
      "text/html": [
       "<div>\n",
       "<style scoped>\n",
       "    .dataframe tbody tr th:only-of-type {\n",
       "        vertical-align: middle;\n",
       "    }\n",
       "\n",
       "    .dataframe tbody tr th {\n",
       "        vertical-align: top;\n",
       "    }\n",
       "\n",
       "    .dataframe thead th {\n",
       "        text-align: right;\n",
       "    }\n",
       "</style>\n",
       "<table border=\"1\" class=\"dataframe\">\n",
       "  <thead>\n",
       "    <tr style=\"text-align: right;\">\n",
       "      <th></th>\n",
       "      <th>User</th>\n",
       "      <th>Hotel</th>\n",
       "    </tr>\n",
       "  </thead>\n",
       "  <tbody>\n",
       "    <tr>\n",
       "      <th>AK</th>\n",
       "      <td>16</td>\n",
       "      <td>NaN</td>\n",
       "    </tr>\n",
       "    <tr>\n",
       "      <th>Central</th>\n",
       "      <td>1838</td>\n",
       "      <td>2013.0</td>\n",
       "    </tr>\n",
       "    <tr>\n",
       "      <th>Eastern</th>\n",
       "      <td>1581</td>\n",
       "      <td>1192.0</td>\n",
       "    </tr>\n",
       "    <tr>\n",
       "      <th>HI</th>\n",
       "      <td>16</td>\n",
       "      <td>NaN</td>\n",
       "    </tr>\n",
       "    <tr>\n",
       "      <th>Mountain</th>\n",
       "      <td>425</td>\n",
       "      <td>681.0</td>\n",
       "    </tr>\n",
       "    <tr>\n",
       "      <th>Pacific</th>\n",
       "      <td>767</td>\n",
       "      <td>757.0</td>\n",
       "    </tr>\n",
       "  </tbody>\n",
       "</table>\n",
       "</div>"
      ],
      "text/plain": [
       "          User   Hotel\n",
       "AK          16     NaN\n",
       "Central   1838  2013.0\n",
       "Eastern   1581  1192.0\n",
       "HI          16     NaN\n",
       "Mountain   425   681.0\n",
       "Pacific    767   757.0"
      ]
     },
     "execution_count": 23,
     "metadata": {},
     "output_type": "execute_result"
    }
   ],
   "source": [
    "# 시간대별 호텔 이용 현황 분석\n",
    "user_by_timezone = df.groupby('USER_TIMEZONE').size()\n",
    "hotel_by_timezone = df.groupby('HOTEL_TIMEZONE').size()\n",
    "\n",
    "# 데이터프레임으로 변환하여 출력\n",
    "result = pd.DataFrame({'User': user_by_timezone, 'Hotel': hotel_by_timezone})\n",
    "result"
   ]
  },
  {
   "cell_type": "markdown",
   "id": "24c9bf45",
   "metadata": {},
   "source": [
    "- AK와 HI에는 호텔이 없는 것을 확인할 수 있다. (거주자도 많지 않다.)\n",
    "- 나머지는 시간대별로 거주자와 호텔 수가 비슷하게 분포한다."
   ]
  },
  {
   "cell_type": "code",
   "execution_count": 24,
   "id": "6555f8bd",
   "metadata": {},
   "outputs": [
    {
     "data": {
      "text/plain": [
       "<AxesSubplot:xlabel='HOTEL_TIMEZONE', ylabel='count'>"
      ]
     },
     "execution_count": 24,
     "metadata": {},
     "output_type": "execute_result"
    },
    {
     "data": {
      "image/png": "[encoded data removed]",
      "text/plain": [
       "<Figure size 432x288 with 1 Axes>"
      ]
     },
     "metadata": {
      "needs_background": "light"
     },
     "output_type": "display_data"
    }
   ],
   "source": [
    "# 호텔이 위치한 시간대와 여행 유형 간의 상관 관계 분석\n",
    "sns.countplot(x='HOTEL_TIMEZONE', hue='Trip Type', data=df)"
   ]
  },
  {
   "cell_type": "markdown",
   "id": "4b2b7eb0",
   "metadata": {},
   "source": [
    "#### Reason\n",
    "- 호텔이 위치한 시간대별로 여행 유형에 따른 수를 분석한다.\n",
    "- 모든 여행 유형 중, 출장의 비율이 가장 높다.\n",
    "- 사람들은 주로 Central로 출장을 간다. 두 번째는 Eastern으로 많이 간다.\n",
    "- 가족, 연인, 혼자, 친구와의 연인도 가장 많이 방문하는 곳은 역시 Central이다.\n",
    "- Central에 호텔이 가장 많거나, 좋다는 것을 대략적으로 알 수 있다."
   ]
  },
  {
   "cell_type": "code",
   "execution_count": 25,
   "id": "8691768c",
   "metadata": {},
   "outputs": [
    {
     "data": {
      "text/plain": [
       "<AxesSubplot:xlabel='HOTEL_STATE', ylabel='count'>"
      ]
     },
     "execution_count": 25,
     "metadata": {},
     "output_type": "execute_result"
    },
    {
     "data": {
      "image/png": "[encoded data removed]",
      "text/plain": [
       "<Figure size 432x288 with 1 Axes>"
      ]
     },
     "metadata": {
      "needs_background": "light"
     },
     "output_type": "display_data"
    }
   ],
   "source": [
    "# 호텔이 위치한 주와 여행 유형 간의 상관 관계 분석\n",
    "sns.countplot(x='HOTEL_STATE', hue='Trip Type', data=df)"
   ]
  },
  {
   "cell_type": "markdown",
   "id": "0bceac61",
   "metadata": {},
   "source": [
    "- TX 주에 가장 많은 호텔 방문이 있는 것을 알 수 있다."
   ]
  },
  {
   "cell_type": "code",
   "execution_count": 26,
   "id": "275dcb5a",
   "metadata": {
    "scrolled": true
   },
   "outputs": [
    {
     "data": {
      "text/plain": [
       "<AxesSubplot:xlabel='USER_TIMEZONE', ylabel='count'>"
      ]
     },
     "execution_count": 26,
     "metadata": {},
     "output_type": "execute_result"
    },
    {
     "data": {
      "image/png": "[encoded data removed]",
      "text/plain": [
       "<Figure size 432x288 with 1 Axes>"
      ]
     },
     "metadata": {
      "needs_background": "light"
     },
     "output_type": "display_data"
    }
   ],
   "source": [
    "# 유저가 위치한 시간대와 여행 유형 간의 상관 관계 분석\n",
    "sns.countplot(x='USER_TIMEZONE', hue='Trip Type', data=df)"
   ]
  },
  {
   "cell_type": "markdown",
   "id": "d780884a",
   "metadata": {},
   "source": [
    "- Eastern과 Central에 사는 사람들은 출장을 가장 많이 간다.\n",
    "- 위에서 분석한 결과를 보았을 때, Central에 위치한 호텔로 출장을 갈 확률이 높아 보인다."
   ]
  },
  {
   "cell_type": "code",
   "execution_count": 27,
   "id": "f409be7d",
   "metadata": {},
   "outputs": [
    {
     "data": {
      "text/plain": [
       "<AxesSubplot:xlabel='HOTEL_TIMEZONE', ylabel='count'>"
      ]
     },
     "execution_count": 27,
     "metadata": {},
     "output_type": "execute_result"
    },
    {
     "data": {
      "image/png": "[encoded data removed]",
      "text/plain": [
       "<Figure size 432x288 with 1 Axes>"
      ]
     },
     "metadata": {
      "needs_background": "light"
     },
     "output_type": "display_data"
    }
   ],
   "source": [
    "# 호텔 위치와 이용자 거주지 간의 상관 관계 분석 (countplot)\n",
    "sns.countplot(x='HOTEL_TIMEZONE', hue='USER_TIMEZONE', data=df)"
   ]
  },
  {
   "cell_type": "code",
   "execution_count": 28,
   "id": "86966ddc",
   "metadata": {
    "scrolled": true
   },
   "outputs": [
    {
     "data": {
      "text/plain": [
       "<AxesSubplot:xlabel='USER_TIMEZONE', ylabel='HOTEL_TIMEZONE'>"
      ]
     },
     "execution_count": 28,
     "metadata": {},
     "output_type": "execute_result"
    },
    {
     "data": {
      "image/png": "[encoded data removed]",
      "text/plain": [
       "<Figure size 432x288 with 2 Axes>"
      ]
     },
     "metadata": {
      "needs_background": "light"
     },
     "output_type": "display_data"
    }
   ],
   "source": [
    "# 호텔 위치와 이용자 거주지 간의 상관 관계 분석 (heatmap)\n",
    "table = df.pivot_table(index=['HOTEL_TIMEZONE'], columns=['USER_TIMEZONE'], aggfunc='size')\n",
    "\n",
    "sns.heatmap(table,\n",
    "            annot=True, fmt='d',\n",
    "            cmap='YlGnBu',\n",
    "            linewidth=.5)"
   ]
  },
  {
   "cell_type": "markdown",
   "id": "6e5c681b",
   "metadata": {},
   "source": [
    "- Central에 위치한 호텔에 방문하는 사람들은 Central에 사는 사람들이 가장 많다.\n",
    "- Eastern에 위치한 호텔에 방문하는 사람들은 Eastern에 사는 사람들이 가장 많다.\n",
    "- Pacific에 위치한 호텔에 방문하는 사람들은 Pacific에 사는 사람들이 가장 많다.\n",
    "\n",
    "-> <b>사람들은 자신이 살고 있는 시간대 근처 호텔에 방문할 가능성이 가장 높다.</b> "
   ]
  },
  {
   "cell_type": "code",
   "execution_count": 29,
   "id": "884aef47",
   "metadata": {},
   "outputs": [
    {
     "data": {
      "text/plain": [
       "<AxesSubplot:xlabel='HOTEL_STATE', ylabel='count'>"
      ]
     },
     "execution_count": 29,
     "metadata": {},
     "output_type": "execute_result"
    },
    {
     "data": {
      "image/png": "[encoded data removed]",
      "text/plain": [
       "<Figure size 432x288 with 1 Axes>"
      ]
     },
     "metadata": {
      "needs_background": "light"
     },
     "output_type": "display_data"
    }
   ],
   "source": [
    "# 호텔 위치와 이용자 거주지 간의 상관 관계 분석 (countplot)\n",
    "sns.countplot(x='HOTEL_STATE', hue='USER_STATE', data=df)"
   ]
  },
  {
   "cell_type": "code",
   "execution_count": 30,
   "id": "fc7a5ee5",
   "metadata": {},
   "outputs": [
    {
     "data": {
      "text/plain": [
       "<AxesSubplot:xlabel='Trip Type', ylabel='Rating'>"
      ]
     },
     "execution_count": 30,
     "metadata": {},
     "output_type": "execute_result"
    },
    {
     "data": {
      "image/png": "[encoded data removed]",
      "text/plain": [
       "<Figure size 432x288 with 1 Axes>"
      ]
     },
     "metadata": {
      "needs_background": "light"
     },
     "output_type": "display_data"
    }
   ],
   "source": [
    "# 여행 유형과 호텔 평가 점수 간의 상관 관계 분석\n",
    "sns.boxplot(x='Trip Type', y='Rating', data=df)"
   ]
  },
  {
   "cell_type": "markdown",
   "id": "8d51f02c",
   "metadata": {},
   "source": [
    "- 점수를 높게 준 여행 유형은 가족과 함께 간 사람들, 연인과 함께 간 사람들로 나타났다.\n",
    "    - 가족이나 연인과 함께 여행을 간다면 평점을 높게 줄 확률이 높다는 것을 대략적으로 파악할 수 있다.\n"
   ]
  },
  {
   "cell_type": "markdown",
   "id": "882e6c50",
   "metadata": {},
   "source": [
    "### 8. 유사성 분석"
   ]
  },
  {
   "cell_type": "markdown",
   "id": "d18b9bc8",
   "metadata": {},
   "source": [
    "#### 유저가 거주하는 주와 호텔이 위치한 주 간의 유사성 분석"
   ]
  },
  {
   "cell_type": "code",
   "execution_count": 31,
   "id": "1523973a",
   "metadata": {},
   "outputs": [
    {
     "name": "stdout",
     "output_type": "stream",
     "text": [
      "공통된 주(State) 개수: 1246\n",
      "공통된 주(State) 비율:\n",
      " AK    0.000000\n",
      "AL    0.000000\n",
      "AR    0.000000\n",
      "AZ    0.366834\n",
      "CA    0.410745\n",
      "CO    0.084507\n",
      "CT    0.000000\n",
      "DC    0.000000\n",
      "DE    0.000000\n",
      "FL    0.167464\n",
      "GA    0.058065\n",
      "HI    0.000000\n",
      "IA    0.000000\n",
      "ID    0.000000\n",
      "IL    0.000000\n",
      "IN    0.338983\n",
      "KS    0.296703\n",
      "KY    0.200000\n",
      "LA    0.000000\n",
      "MA    0.000000\n",
      "MD    0.016667\n",
      "ME    0.000000\n",
      "MI    0.011236\n",
      "MN    0.018692\n",
      "MO    0.000000\n",
      "MS    0.000000\n",
      "MT    0.000000\n",
      "NC    0.352113\n",
      "ND    0.000000\n",
      "NE    0.290323\n",
      "NJ    0.000000\n",
      "NM    0.272727\n",
      "NV    0.116279\n",
      "NY    0.007519\n",
      "OH    0.372881\n",
      "OK    0.540984\n",
      "OR    0.200000\n",
      "PA    0.010989\n",
      "RI    0.000000\n",
      "SC    0.000000\n",
      "SD    0.000000\n",
      "TN    0.281818\n",
      "TX    0.619385\n",
      "UT    0.000000\n",
      "VA    0.013245\n",
      "WA    0.045977\n",
      "WI    0.241935\n",
      "WV    0.000000\n",
      "WY    0.000000\n",
      "Name: USER_STATE_ONLY, dtype: float64\n"
     ]
    }
   ],
   "source": [
    "# USER_STATE와 HOTEL_STATE 열에서 주에 대한 정보만 추출하여 새로운 열을 만들기\n",
    "df['USER_STATE_ONLY'] = df['USER_STATE'].str.split(',').str[-1].str.strip()\n",
    "df['HOTEL_STATE_ONLY'] = df['HOTEL_STATE'].str.split(',').str[-1].str.strip()\n",
    "\n",
    "\n",
    "# 공통된 주의 개수 계산\n",
    "num_common_states = np.sum(df['USER_STATE_ONLY'] == df['HOTEL_STATE_ONLY'])\n",
    "\n",
    "\n",
    "# 공통된 주의 비율 계산\n",
    "state_counts = df['USER_STATE_ONLY'].value_counts()\n",
    "common_states = df[df['USER_STATE_ONLY'] == df['HOTEL_STATE_ONLY']]['USER_STATE_ONLY'].value_counts()\n",
    "common_ratio = (common_states / state_counts).fillna(0)\n",
    "\n",
    "print('공통된 주(State) 개수:', num_common_states)\n",
    "print('공통된 주(State) 비율:\\n', common_ratio)"
   ]
  },
  {
   "cell_type": "markdown",
   "id": "eb2b8fc1",
   "metadata": {},
   "source": [
    "- 공통된 주의 비율이 0에 가까운 주가 많은 것을 확인할 수 있다.\n",
    "- 이 말은 즉, 사람들은 자신이 거주한 주에 위치한 호텔에 방문하기보다, 다른 주에 위치한 호텔에 방문하는 사람이 많다는 것이다."
   ]
  },
  {
   "cell_type": "code",
   "execution_count": 32,
   "id": "086434d7",
   "metadata": {},
   "outputs": [
    {
     "name": "stdout",
     "output_type": "stream",
     "text": [
      "user_state 개수:  49\n",
      "hotel_state 개수:  27\n"
     ]
    }
   ],
   "source": [
    "# USER_STATE와 HOTEL_STATE 개수 확인\n",
    "print(\"user_state 개수: \", len(df['USER_STATE'].unique()))\n",
    "print(\"hotel_state 개수: \", len(df['HOTEL_STATE'].unique()))"
   ]
  },
  {
   "cell_type": "code",
   "execution_count": 33,
   "id": "67e6fcd3",
   "metadata": {
    "scrolled": true
   },
   "outputs": [
    {
     "data": {
      "text/html": [
       "<div>\n",
       "<style scoped>\n",
       "    .dataframe tbody tr th:only-of-type {\n",
       "        vertical-align: middle;\n",
       "    }\n",
       "\n",
       "    .dataframe tbody tr th {\n",
       "        vertical-align: top;\n",
       "    }\n",
       "\n",
       "    .dataframe thead th {\n",
       "        text-align: right;\n",
       "    }\n",
       "</style>\n",
       "<table border=\"1\" class=\"dataframe\">\n",
       "  <thead>\n",
       "    <tr style=\"text-align: right;\">\n",
       "      <th>USER_STATE</th>\n",
       "      <th>AK</th>\n",
       "      <th>AL</th>\n",
       "      <th>AR</th>\n",
       "      <th>AZ</th>\n",
       "      <th>CA</th>\n",
       "      <th>CO</th>\n",
       "      <th>CT</th>\n",
       "      <th>DC</th>\n",
       "      <th>DE</th>\n",
       "      <th>FL</th>\n",
       "      <th>...</th>\n",
       "      <th>SC</th>\n",
       "      <th>SD</th>\n",
       "      <th>TN</th>\n",
       "      <th>TX</th>\n",
       "      <th>UT</th>\n",
       "      <th>VA</th>\n",
       "      <th>WA</th>\n",
       "      <th>WI</th>\n",
       "      <th>WV</th>\n",
       "      <th>WY</th>\n",
       "    </tr>\n",
       "    <tr>\n",
       "      <th>HOTEL_STATE</th>\n",
       "      <th></th>\n",
       "      <th></th>\n",
       "      <th></th>\n",
       "      <th></th>\n",
       "      <th></th>\n",
       "      <th></th>\n",
       "      <th></th>\n",
       "      <th></th>\n",
       "      <th></th>\n",
       "      <th></th>\n",
       "      <th></th>\n",
       "      <th></th>\n",
       "      <th></th>\n",
       "      <th></th>\n",
       "      <th></th>\n",
       "      <th></th>\n",
       "      <th></th>\n",
       "      <th></th>\n",
       "      <th></th>\n",
       "      <th></th>\n",
       "      <th></th>\n",
       "    </tr>\n",
       "  </thead>\n",
       "  <tbody>\n",
       "    <tr>\n",
       "      <th>AZ</th>\n",
       "      <td>3</td>\n",
       "      <td>2</td>\n",
       "      <td>3</td>\n",
       "      <td>73</td>\n",
       "      <td>64</td>\n",
       "      <td>13</td>\n",
       "      <td>0</td>\n",
       "      <td>3</td>\n",
       "      <td>0</td>\n",
       "      <td>8</td>\n",
       "      <td>...</td>\n",
       "      <td>8</td>\n",
       "      <td>0</td>\n",
       "      <td>3</td>\n",
       "      <td>28</td>\n",
       "      <td>2</td>\n",
       "      <td>13</td>\n",
       "      <td>14</td>\n",
       "      <td>1</td>\n",
       "      <td>0</td>\n",
       "      <td>0</td>\n",
       "    </tr>\n",
       "    <tr>\n",
       "      <th>CA</th>\n",
       "      <td>1</td>\n",
       "      <td>0</td>\n",
       "      <td>5</td>\n",
       "      <td>31</td>\n",
       "      <td>237</td>\n",
       "      <td>9</td>\n",
       "      <td>3</td>\n",
       "      <td>7</td>\n",
       "      <td>0</td>\n",
       "      <td>9</td>\n",
       "      <td>...</td>\n",
       "      <td>5</td>\n",
       "      <td>0</td>\n",
       "      <td>5</td>\n",
       "      <td>42</td>\n",
       "      <td>1</td>\n",
       "      <td>7</td>\n",
       "      <td>17</td>\n",
       "      <td>1</td>\n",
       "      <td>0</td>\n",
       "      <td>1</td>\n",
       "    </tr>\n",
       "    <tr>\n",
       "      <th>CO</th>\n",
       "      <td>1</td>\n",
       "      <td>0</td>\n",
       "      <td>2</td>\n",
       "      <td>1</td>\n",
       "      <td>13</td>\n",
       "      <td>12</td>\n",
       "      <td>1</td>\n",
       "      <td>2</td>\n",
       "      <td>0</td>\n",
       "      <td>3</td>\n",
       "      <td>...</td>\n",
       "      <td>2</td>\n",
       "      <td>2</td>\n",
       "      <td>1</td>\n",
       "      <td>6</td>\n",
       "      <td>1</td>\n",
       "      <td>4</td>\n",
       "      <td>0</td>\n",
       "      <td>1</td>\n",
       "      <td>0</td>\n",
       "      <td>4</td>\n",
       "    </tr>\n",
       "    <tr>\n",
       "      <th>FL</th>\n",
       "      <td>1</td>\n",
       "      <td>3</td>\n",
       "      <td>2</td>\n",
       "      <td>0</td>\n",
       "      <td>8</td>\n",
       "      <td>3</td>\n",
       "      <td>0</td>\n",
       "      <td>0</td>\n",
       "      <td>0</td>\n",
       "      <td>35</td>\n",
       "      <td>...</td>\n",
       "      <td>1</td>\n",
       "      <td>0</td>\n",
       "      <td>2</td>\n",
       "      <td>5</td>\n",
       "      <td>4</td>\n",
       "      <td>4</td>\n",
       "      <td>0</td>\n",
       "      <td>0</td>\n",
       "      <td>6</td>\n",
       "      <td>1</td>\n",
       "    </tr>\n",
       "    <tr>\n",
       "      <th>GA</th>\n",
       "      <td>0</td>\n",
       "      <td>8</td>\n",
       "      <td>1</td>\n",
       "      <td>5</td>\n",
       "      <td>10</td>\n",
       "      <td>0</td>\n",
       "      <td>0</td>\n",
       "      <td>2</td>\n",
       "      <td>0</td>\n",
       "      <td>15</td>\n",
       "      <td>...</td>\n",
       "      <td>4</td>\n",
       "      <td>0</td>\n",
       "      <td>13</td>\n",
       "      <td>14</td>\n",
       "      <td>0</td>\n",
       "      <td>6</td>\n",
       "      <td>2</td>\n",
       "      <td>0</td>\n",
       "      <td>2</td>\n",
       "      <td>0</td>\n",
       "    </tr>\n",
       "    <tr>\n",
       "      <th>IL</th>\n",
       "      <td>0</td>\n",
       "      <td>0</td>\n",
       "      <td>0</td>\n",
       "      <td>0</td>\n",
       "      <td>3</td>\n",
       "      <td>2</td>\n",
       "      <td>0</td>\n",
       "      <td>0</td>\n",
       "      <td>0</td>\n",
       "      <td>1</td>\n",
       "      <td>...</td>\n",
       "      <td>0</td>\n",
       "      <td>0</td>\n",
       "      <td>1</td>\n",
       "      <td>2</td>\n",
       "      <td>0</td>\n",
       "      <td>1</td>\n",
       "      <td>0</td>\n",
       "      <td>0</td>\n",
       "      <td>0</td>\n",
       "      <td>0</td>\n",
       "    </tr>\n",
       "    <tr>\n",
       "      <th>IN</th>\n",
       "      <td>0</td>\n",
       "      <td>3</td>\n",
       "      <td>0</td>\n",
       "      <td>1</td>\n",
       "      <td>10</td>\n",
       "      <td>7</td>\n",
       "      <td>0</td>\n",
       "      <td>2</td>\n",
       "      <td>1</td>\n",
       "      <td>8</td>\n",
       "      <td>...</td>\n",
       "      <td>1</td>\n",
       "      <td>0</td>\n",
       "      <td>3</td>\n",
       "      <td>12</td>\n",
       "      <td>0</td>\n",
       "      <td>4</td>\n",
       "      <td>0</td>\n",
       "      <td>7</td>\n",
       "      <td>1</td>\n",
       "      <td>0</td>\n",
       "    </tr>\n",
       "    <tr>\n",
       "      <th>KS</th>\n",
       "      <td>0</td>\n",
       "      <td>1</td>\n",
       "      <td>3</td>\n",
       "      <td>1</td>\n",
       "      <td>6</td>\n",
       "      <td>7</td>\n",
       "      <td>0</td>\n",
       "      <td>1</td>\n",
       "      <td>0</td>\n",
       "      <td>2</td>\n",
       "      <td>...</td>\n",
       "      <td>3</td>\n",
       "      <td>1</td>\n",
       "      <td>4</td>\n",
       "      <td>15</td>\n",
       "      <td>1</td>\n",
       "      <td>0</td>\n",
       "      <td>2</td>\n",
       "      <td>1</td>\n",
       "      <td>0</td>\n",
       "      <td>0</td>\n",
       "    </tr>\n",
       "    <tr>\n",
       "      <th>KY</th>\n",
       "      <td>0</td>\n",
       "      <td>2</td>\n",
       "      <td>0</td>\n",
       "      <td>0</td>\n",
       "      <td>9</td>\n",
       "      <td>1</td>\n",
       "      <td>0</td>\n",
       "      <td>2</td>\n",
       "      <td>0</td>\n",
       "      <td>5</td>\n",
       "      <td>...</td>\n",
       "      <td>1</td>\n",
       "      <td>0</td>\n",
       "      <td>13</td>\n",
       "      <td>11</td>\n",
       "      <td>0</td>\n",
       "      <td>2</td>\n",
       "      <td>0</td>\n",
       "      <td>4</td>\n",
       "      <td>0</td>\n",
       "      <td>0</td>\n",
       "    </tr>\n",
       "    <tr>\n",
       "      <th>MA</th>\n",
       "      <td>0</td>\n",
       "      <td>0</td>\n",
       "      <td>0</td>\n",
       "      <td>0</td>\n",
       "      <td>1</td>\n",
       "      <td>0</td>\n",
       "      <td>1</td>\n",
       "      <td>0</td>\n",
       "      <td>0</td>\n",
       "      <td>1</td>\n",
       "      <td>...</td>\n",
       "      <td>0</td>\n",
       "      <td>0</td>\n",
       "      <td>0</td>\n",
       "      <td>0</td>\n",
       "      <td>0</td>\n",
       "      <td>0</td>\n",
       "      <td>0</td>\n",
       "      <td>0</td>\n",
       "      <td>0</td>\n",
       "      <td>0</td>\n",
       "    </tr>\n",
       "    <tr>\n",
       "      <th>MD</th>\n",
       "      <td>0</td>\n",
       "      <td>0</td>\n",
       "      <td>1</td>\n",
       "      <td>0</td>\n",
       "      <td>1</td>\n",
       "      <td>0</td>\n",
       "      <td>0</td>\n",
       "      <td>1</td>\n",
       "      <td>0</td>\n",
       "      <td>0</td>\n",
       "      <td>...</td>\n",
       "      <td>0</td>\n",
       "      <td>0</td>\n",
       "      <td>1</td>\n",
       "      <td>1</td>\n",
       "      <td>0</td>\n",
       "      <td>3</td>\n",
       "      <td>2</td>\n",
       "      <td>0</td>\n",
       "      <td>0</td>\n",
       "      <td>0</td>\n",
       "    </tr>\n",
       "    <tr>\n",
       "      <th>MI</th>\n",
       "      <td>1</td>\n",
       "      <td>0</td>\n",
       "      <td>2</td>\n",
       "      <td>0</td>\n",
       "      <td>1</td>\n",
       "      <td>0</td>\n",
       "      <td>0</td>\n",
       "      <td>2</td>\n",
       "      <td>0</td>\n",
       "      <td>8</td>\n",
       "      <td>...</td>\n",
       "      <td>0</td>\n",
       "      <td>0</td>\n",
       "      <td>1</td>\n",
       "      <td>7</td>\n",
       "      <td>1</td>\n",
       "      <td>1</td>\n",
       "      <td>8</td>\n",
       "      <td>0</td>\n",
       "      <td>0</td>\n",
       "      <td>0</td>\n",
       "    </tr>\n",
       "    <tr>\n",
       "      <th>MN</th>\n",
       "      <td>0</td>\n",
       "      <td>0</td>\n",
       "      <td>0</td>\n",
       "      <td>0</td>\n",
       "      <td>3</td>\n",
       "      <td>4</td>\n",
       "      <td>0</td>\n",
       "      <td>2</td>\n",
       "      <td>0</td>\n",
       "      <td>4</td>\n",
       "      <td>...</td>\n",
       "      <td>0</td>\n",
       "      <td>0</td>\n",
       "      <td>0</td>\n",
       "      <td>2</td>\n",
       "      <td>0</td>\n",
       "      <td>0</td>\n",
       "      <td>1</td>\n",
       "      <td>3</td>\n",
       "      <td>0</td>\n",
       "      <td>0</td>\n",
       "    </tr>\n",
       "    <tr>\n",
       "      <th>NC</th>\n",
       "      <td>2</td>\n",
       "      <td>1</td>\n",
       "      <td>1</td>\n",
       "      <td>0</td>\n",
       "      <td>9</td>\n",
       "      <td>2</td>\n",
       "      <td>5</td>\n",
       "      <td>2</td>\n",
       "      <td>2</td>\n",
       "      <td>14</td>\n",
       "      <td>...</td>\n",
       "      <td>9</td>\n",
       "      <td>0</td>\n",
       "      <td>2</td>\n",
       "      <td>9</td>\n",
       "      <td>0</td>\n",
       "      <td>19</td>\n",
       "      <td>1</td>\n",
       "      <td>3</td>\n",
       "      <td>3</td>\n",
       "      <td>0</td>\n",
       "    </tr>\n",
       "    <tr>\n",
       "      <th>NE</th>\n",
       "      <td>0</td>\n",
       "      <td>1</td>\n",
       "      <td>1</td>\n",
       "      <td>1</td>\n",
       "      <td>7</td>\n",
       "      <td>8</td>\n",
       "      <td>0</td>\n",
       "      <td>0</td>\n",
       "      <td>0</td>\n",
       "      <td>3</td>\n",
       "      <td>...</td>\n",
       "      <td>1</td>\n",
       "      <td>4</td>\n",
       "      <td>0</td>\n",
       "      <td>9</td>\n",
       "      <td>0</td>\n",
       "      <td>2</td>\n",
       "      <td>0</td>\n",
       "      <td>1</td>\n",
       "      <td>0</td>\n",
       "      <td>0</td>\n",
       "    </tr>\n",
       "    <tr>\n",
       "      <th>NM</th>\n",
       "      <td>1</td>\n",
       "      <td>1</td>\n",
       "      <td>2</td>\n",
       "      <td>17</td>\n",
       "      <td>26</td>\n",
       "      <td>13</td>\n",
       "      <td>0</td>\n",
       "      <td>3</td>\n",
       "      <td>0</td>\n",
       "      <td>9</td>\n",
       "      <td>...</td>\n",
       "      <td>5</td>\n",
       "      <td>0</td>\n",
       "      <td>2</td>\n",
       "      <td>29</td>\n",
       "      <td>0</td>\n",
       "      <td>10</td>\n",
       "      <td>0</td>\n",
       "      <td>3</td>\n",
       "      <td>0</td>\n",
       "      <td>0</td>\n",
       "    </tr>\n",
       "    <tr>\n",
       "      <th>NV</th>\n",
       "      <td>0</td>\n",
       "      <td>0</td>\n",
       "      <td>1</td>\n",
       "      <td>5</td>\n",
       "      <td>21</td>\n",
       "      <td>11</td>\n",
       "      <td>0</td>\n",
       "      <td>1</td>\n",
       "      <td>0</td>\n",
       "      <td>5</td>\n",
       "      <td>...</td>\n",
       "      <td>2</td>\n",
       "      <td>0</td>\n",
       "      <td>1</td>\n",
       "      <td>7</td>\n",
       "      <td>2</td>\n",
       "      <td>1</td>\n",
       "      <td>1</td>\n",
       "      <td>2</td>\n",
       "      <td>0</td>\n",
       "      <td>0</td>\n",
       "    </tr>\n",
       "    <tr>\n",
       "      <th>NY</th>\n",
       "      <td>0</td>\n",
       "      <td>0</td>\n",
       "      <td>0</td>\n",
       "      <td>0</td>\n",
       "      <td>0</td>\n",
       "      <td>0</td>\n",
       "      <td>0</td>\n",
       "      <td>0</td>\n",
       "      <td>0</td>\n",
       "      <td>1</td>\n",
       "      <td>...</td>\n",
       "      <td>0</td>\n",
       "      <td>0</td>\n",
       "      <td>0</td>\n",
       "      <td>4</td>\n",
       "      <td>0</td>\n",
       "      <td>2</td>\n",
       "      <td>0</td>\n",
       "      <td>0</td>\n",
       "      <td>0</td>\n",
       "      <td>0</td>\n",
       "    </tr>\n",
       "    <tr>\n",
       "      <th>OH</th>\n",
       "      <td>0</td>\n",
       "      <td>1</td>\n",
       "      <td>0</td>\n",
       "      <td>11</td>\n",
       "      <td>10</td>\n",
       "      <td>1</td>\n",
       "      <td>0</td>\n",
       "      <td>1</td>\n",
       "      <td>0</td>\n",
       "      <td>6</td>\n",
       "      <td>...</td>\n",
       "      <td>0</td>\n",
       "      <td>0</td>\n",
       "      <td>4</td>\n",
       "      <td>10</td>\n",
       "      <td>0</td>\n",
       "      <td>8</td>\n",
       "      <td>2</td>\n",
       "      <td>1</td>\n",
       "      <td>4</td>\n",
       "      <td>0</td>\n",
       "    </tr>\n",
       "    <tr>\n",
       "      <th>OK</th>\n",
       "      <td>0</td>\n",
       "      <td>0</td>\n",
       "      <td>24</td>\n",
       "      <td>2</td>\n",
       "      <td>9</td>\n",
       "      <td>3</td>\n",
       "      <td>0</td>\n",
       "      <td>0</td>\n",
       "      <td>0</td>\n",
       "      <td>7</td>\n",
       "      <td>...</td>\n",
       "      <td>1</td>\n",
       "      <td>1</td>\n",
       "      <td>4</td>\n",
       "      <td>74</td>\n",
       "      <td>2</td>\n",
       "      <td>6</td>\n",
       "      <td>1</td>\n",
       "      <td>4</td>\n",
       "      <td>0</td>\n",
       "      <td>0</td>\n",
       "    </tr>\n",
       "    <tr>\n",
       "      <th>OR</th>\n",
       "      <td>0</td>\n",
       "      <td>1</td>\n",
       "      <td>0</td>\n",
       "      <td>4</td>\n",
       "      <td>15</td>\n",
       "      <td>1</td>\n",
       "      <td>0</td>\n",
       "      <td>0</td>\n",
       "      <td>0</td>\n",
       "      <td>3</td>\n",
       "      <td>...</td>\n",
       "      <td>2</td>\n",
       "      <td>0</td>\n",
       "      <td>0</td>\n",
       "      <td>7</td>\n",
       "      <td>0</td>\n",
       "      <td>2</td>\n",
       "      <td>11</td>\n",
       "      <td>0</td>\n",
       "      <td>0</td>\n",
       "      <td>0</td>\n",
       "    </tr>\n",
       "    <tr>\n",
       "      <th>PA</th>\n",
       "      <td>0</td>\n",
       "      <td>0</td>\n",
       "      <td>0</td>\n",
       "      <td>0</td>\n",
       "      <td>0</td>\n",
       "      <td>0</td>\n",
       "      <td>0</td>\n",
       "      <td>0</td>\n",
       "      <td>0</td>\n",
       "      <td>0</td>\n",
       "      <td>...</td>\n",
       "      <td>0</td>\n",
       "      <td>0</td>\n",
       "      <td>1</td>\n",
       "      <td>2</td>\n",
       "      <td>0</td>\n",
       "      <td>2</td>\n",
       "      <td>0</td>\n",
       "      <td>0</td>\n",
       "      <td>0</td>\n",
       "      <td>0</td>\n",
       "    </tr>\n",
       "    <tr>\n",
       "      <th>TN</th>\n",
       "      <td>0</td>\n",
       "      <td>5</td>\n",
       "      <td>10</td>\n",
       "      <td>4</td>\n",
       "      <td>8</td>\n",
       "      <td>9</td>\n",
       "      <td>1</td>\n",
       "      <td>3</td>\n",
       "      <td>0</td>\n",
       "      <td>11</td>\n",
       "      <td>...</td>\n",
       "      <td>1</td>\n",
       "      <td>0</td>\n",
       "      <td>31</td>\n",
       "      <td>14</td>\n",
       "      <td>0</td>\n",
       "      <td>11</td>\n",
       "      <td>4</td>\n",
       "      <td>5</td>\n",
       "      <td>1</td>\n",
       "      <td>0</td>\n",
       "    </tr>\n",
       "    <tr>\n",
       "      <th>TX</th>\n",
       "      <td>3</td>\n",
       "      <td>6</td>\n",
       "      <td>7</td>\n",
       "      <td>39</td>\n",
       "      <td>92</td>\n",
       "      <td>31</td>\n",
       "      <td>2</td>\n",
       "      <td>8</td>\n",
       "      <td>0</td>\n",
       "      <td>45</td>\n",
       "      <td>...</td>\n",
       "      <td>7</td>\n",
       "      <td>0</td>\n",
       "      <td>18</td>\n",
       "      <td>524</td>\n",
       "      <td>1</td>\n",
       "      <td>35</td>\n",
       "      <td>17</td>\n",
       "      <td>9</td>\n",
       "      <td>0</td>\n",
       "      <td>4</td>\n",
       "    </tr>\n",
       "    <tr>\n",
       "      <th>VA</th>\n",
       "      <td>0</td>\n",
       "      <td>0</td>\n",
       "      <td>1</td>\n",
       "      <td>1</td>\n",
       "      <td>0</td>\n",
       "      <td>0</td>\n",
       "      <td>0</td>\n",
       "      <td>3</td>\n",
       "      <td>0</td>\n",
       "      <td>0</td>\n",
       "      <td>...</td>\n",
       "      <td>0</td>\n",
       "      <td>0</td>\n",
       "      <td>0</td>\n",
       "      <td>3</td>\n",
       "      <td>0</td>\n",
       "      <td>2</td>\n",
       "      <td>0</td>\n",
       "      <td>0</td>\n",
       "      <td>1</td>\n",
       "      <td>0</td>\n",
       "    </tr>\n",
       "    <tr>\n",
       "      <th>WA</th>\n",
       "      <td>3</td>\n",
       "      <td>1</td>\n",
       "      <td>0</td>\n",
       "      <td>1</td>\n",
       "      <td>8</td>\n",
       "      <td>0</td>\n",
       "      <td>0</td>\n",
       "      <td>2</td>\n",
       "      <td>0</td>\n",
       "      <td>3</td>\n",
       "      <td>...</td>\n",
       "      <td>2</td>\n",
       "      <td>0</td>\n",
       "      <td>0</td>\n",
       "      <td>5</td>\n",
       "      <td>0</td>\n",
       "      <td>3</td>\n",
       "      <td>4</td>\n",
       "      <td>1</td>\n",
       "      <td>0</td>\n",
       "      <td>0</td>\n",
       "    </tr>\n",
       "    <tr>\n",
       "      <th>WI</th>\n",
       "      <td>0</td>\n",
       "      <td>1</td>\n",
       "      <td>1</td>\n",
       "      <td>2</td>\n",
       "      <td>6</td>\n",
       "      <td>5</td>\n",
       "      <td>1</td>\n",
       "      <td>0</td>\n",
       "      <td>0</td>\n",
       "      <td>3</td>\n",
       "      <td>...</td>\n",
       "      <td>0</td>\n",
       "      <td>0</td>\n",
       "      <td>0</td>\n",
       "      <td>4</td>\n",
       "      <td>0</td>\n",
       "      <td>3</td>\n",
       "      <td>0</td>\n",
       "      <td>15</td>\n",
       "      <td>0</td>\n",
       "      <td>0</td>\n",
       "    </tr>\n",
       "  </tbody>\n",
       "</table>\n",
       "<p>27 rows × 49 columns</p>\n",
       "</div>"
      ],
      "text/plain": [
       "USER_STATE   AK  AL  AR  AZ   CA  CO  CT  DC  DE  FL  ...  SC  SD  TN   TX  \\\n",
       "HOTEL_STATE                                           ...                    \n",
       "AZ            3   2   3  73   64  13   0   3   0   8  ...   8   0   3   28   \n",
       "CA            1   0   5  31  237   9   3   7   0   9  ...   5   0   5   42   \n",
       "CO            1   0   2   1   13  12   1   2   0   3  ...   2   2   1    6   \n",
       "FL            1   3   2   0    8   3   0   0   0  35  ...   1   0   2    5   \n",
       "GA            0   8   1   5   10   0   0   2   0  15  ...   4   0  13   14   \n",
       "IL            0   0   0   0    3   2   0   0   0   1  ...   0   0   1    2   \n",
       "IN            0   3   0   1   10   7   0   2   1   8  ...   1   0   3   12   \n",
       "KS            0   1   3   1    6   7   0   1   0   2  ...   3   1   4   15   \n",
       "KY            0   2   0   0    9   1   0   2   0   5  ...   1   0  13   11   \n",
       "MA            0   0   0   0    1   0   1   0   0   1  ...   0   0   0    0   \n",
       "MD            0   0   1   0    1   0   0   1   0   0  ...   0   0   1    1   \n",
       "MI            1   0   2   0    1   0   0   2   0   8  ...   0   0   1    7   \n",
       "MN            0   0   0   0    3   4   0   2   0   4  ...   0   0   0    2   \n",
       "NC            2   1   1   0    9   2   5   2   2  14  ...   9   0   2    9   \n",
       "NE            0   1   1   1    7   8   0   0   0   3  ...   1   4   0    9   \n",
       "NM            1   1   2  17   26  13   0   3   0   9  ...   5   0   2   29   \n",
       "NV            0   0   1   5   21  11   0   1   0   5  ...   2   0   1    7   \n",
       "NY            0   0   0   0    0   0   0   0   0   1  ...   0   0   0    4   \n",
       "OH            0   1   0  11   10   1   0   1   0   6  ...   0   0   4   10   \n",
       "OK            0   0  24   2    9   3   0   0   0   7  ...   1   1   4   74   \n",
       "OR            0   1   0   4   15   1   0   0   0   3  ...   2   0   0    7   \n",
       "PA            0   0   0   0    0   0   0   0   0   0  ...   0   0   1    2   \n",
       "TN            0   5  10   4    8   9   1   3   0  11  ...   1   0  31   14   \n",
       "TX            3   6   7  39   92  31   2   8   0  45  ...   7   0  18  524   \n",
       "VA            0   0   1   1    0   0   0   3   0   0  ...   0   0   0    3   \n",
       "WA            3   1   0   1    8   0   0   2   0   3  ...   2   0   0    5   \n",
       "WI            0   1   1   2    6   5   1   0   0   3  ...   0   0   0    4   \n",
       "\n",
       "USER_STATE   UT  VA  WA  WI  WV  WY  \n",
       "HOTEL_STATE                          \n",
       "AZ            2  13  14   1   0   0  \n",
       "CA            1   7  17   1   0   1  \n",
       "CO            1   4   0   1   0   4  \n",
       "FL            4   4   0   0   6   1  \n",
       "GA            0   6   2   0   2   0  \n",
       "IL            0   1   0   0   0   0  \n",
       "IN            0   4   0   7   1   0  \n",
       "KS            1   0   2   1   0   0  \n",
       "KY            0   2   0   4   0   0  \n",
       "MA            0   0   0   0   0   0  \n",
       "MD            0   3   2   0   0   0  \n",
       "MI            1   1   8   0   0   0  \n",
       "MN            0   0   1   3   0   0  \n",
       "NC            0  19   1   3   3   0  \n",
       "NE            0   2   0   1   0   0  \n",
       "NM            0  10   0   3   0   0  \n",
       "NV            2   1   1   2   0   0  \n",
       "NY            0   2   0   0   0   0  \n",
       "OH            0   8   2   1   4   0  \n",
       "OK            2   6   1   4   0   0  \n",
       "OR            0   2  11   0   0   0  \n",
       "PA            0   2   0   0   0   0  \n",
       "TN            0  11   4   5   1   0  \n",
       "TX            1  35  17   9   0   4  \n",
       "VA            0   2   0   0   1   0  \n",
       "WA            0   3   4   1   0   0  \n",
       "WI            0   3   0  15   0   0  \n",
       "\n",
       "[27 rows x 49 columns]"
      ]
     },
     "execution_count": 33,
     "metadata": {},
     "output_type": "execute_result"
    }
   ],
   "source": [
    "pd.crosstab(df.HOTEL_STATE, df.USER_STATE)"
   ]
  },
  {
   "cell_type": "markdown",
   "id": "82e2e268",
   "metadata": {},
   "source": [
    "- USER_STATE와 HOTEL_STATE 교차표 생성"
   ]
  },
  {
   "cell_type": "code",
   "execution_count": 34,
   "id": "56b20ba1",
   "metadata": {},
   "outputs": [
    {
     "data": {
      "text/html": [
       "<div>\n",
       "<style scoped>\n",
       "    .dataframe tbody tr th:only-of-type {\n",
       "        vertical-align: middle;\n",
       "    }\n",
       "\n",
       "    .dataframe tbody tr th {\n",
       "        vertical-align: top;\n",
       "    }\n",
       "\n",
       "    .dataframe thead th {\n",
       "        text-align: right;\n",
       "    }\n",
       "</style>\n",
       "<table border=\"1\" class=\"dataframe\">\n",
       "  <thead>\n",
       "    <tr style=\"text-align: right;\">\n",
       "      <th></th>\n",
       "      <th>ID_USER</th>\n",
       "      <th>USER_STATE</th>\n",
       "      <th>USER_TIMEZONE</th>\n",
       "      <th>ID_HOTEL</th>\n",
       "      <th>HOTEL_CITY</th>\n",
       "      <th>HOTEL_STATE</th>\n",
       "      <th>HOTEL_TIMEZONE</th>\n",
       "      <th>Trip Type</th>\n",
       "      <th>Rating</th>\n",
       "      <th>USER_STATE_ONLY</th>\n",
       "      <th>HOTEL_STATE_ONLY</th>\n",
       "      <th>IS_SAME_STATE</th>\n",
       "    </tr>\n",
       "  </thead>\n",
       "  <tbody>\n",
       "    <tr>\n",
       "      <th>0</th>\n",
       "      <td>45</td>\n",
       "      <td>GA</td>\n",
       "      <td>Eastern</td>\n",
       "      <td>105170</td>\n",
       "      <td>Memphis</td>\n",
       "      <td>TN</td>\n",
       "      <td>Central</td>\n",
       "      <td>Business</td>\n",
       "      <td>5</td>\n",
       "      <td>GA</td>\n",
       "      <td>TN</td>\n",
       "      <td>False</td>\n",
       "    </tr>\n",
       "    <tr>\n",
       "      <th>1</th>\n",
       "      <td>45</td>\n",
       "      <td>GA</td>\n",
       "      <td>Eastern</td>\n",
       "      <td>223229</td>\n",
       "      <td>SanAntonio</td>\n",
       "      <td>TX</td>\n",
       "      <td>Central</td>\n",
       "      <td>Business</td>\n",
       "      <td>5</td>\n",
       "      <td>GA</td>\n",
       "      <td>TX</td>\n",
       "      <td>False</td>\n",
       "    </tr>\n",
       "    <tr>\n",
       "      <th>2</th>\n",
       "      <td>45</td>\n",
       "      <td>GA</td>\n",
       "      <td>Eastern</td>\n",
       "      <td>258688</td>\n",
       "      <td>Albuquerque</td>\n",
       "      <td>NM</td>\n",
       "      <td>Mountain</td>\n",
       "      <td>Business</td>\n",
       "      <td>5</td>\n",
       "      <td>GA</td>\n",
       "      <td>NM</td>\n",
       "      <td>False</td>\n",
       "    </tr>\n",
       "    <tr>\n",
       "      <th>3</th>\n",
       "      <td>45</td>\n",
       "      <td>GA</td>\n",
       "      <td>Eastern</td>\n",
       "      <td>98827</td>\n",
       "      <td>ELPaso</td>\n",
       "      <td>TX</td>\n",
       "      <td>Central</td>\n",
       "      <td>Business</td>\n",
       "      <td>5</td>\n",
       "      <td>GA</td>\n",
       "      <td>TX</td>\n",
       "      <td>False</td>\n",
       "    </tr>\n",
       "    <tr>\n",
       "      <th>4</th>\n",
       "      <td>45</td>\n",
       "      <td>GA</td>\n",
       "      <td>Eastern</td>\n",
       "      <td>99518</td>\n",
       "      <td>SanAntonio</td>\n",
       "      <td>TX</td>\n",
       "      <td>Central</td>\n",
       "      <td>Business</td>\n",
       "      <td>3</td>\n",
       "      <td>GA</td>\n",
       "      <td>TX</td>\n",
       "      <td>False</td>\n",
       "    </tr>\n",
       "    <tr>\n",
       "      <th>5</th>\n",
       "      <td>64</td>\n",
       "      <td>TX</td>\n",
       "      <td>Central</td>\n",
       "      <td>224427</td>\n",
       "      <td>Cleveland</td>\n",
       "      <td>OH</td>\n",
       "      <td>Eastern</td>\n",
       "      <td>Family</td>\n",
       "      <td>4</td>\n",
       "      <td>TX</td>\n",
       "      <td>OH</td>\n",
       "      <td>False</td>\n",
       "    </tr>\n",
       "    <tr>\n",
       "      <th>6</th>\n",
       "      <td>64</td>\n",
       "      <td>TX</td>\n",
       "      <td>Central</td>\n",
       "      <td>1751886</td>\n",
       "      <td>Austin</td>\n",
       "      <td>TX</td>\n",
       "      <td>Central</td>\n",
       "      <td>Business</td>\n",
       "      <td>4</td>\n",
       "      <td>TX</td>\n",
       "      <td>TX</td>\n",
       "      <td>True</td>\n",
       "    </tr>\n",
       "    <tr>\n",
       "      <th>7</th>\n",
       "      <td>64</td>\n",
       "      <td>TX</td>\n",
       "      <td>Central</td>\n",
       "      <td>99120</td>\n",
       "      <td>Houston</td>\n",
       "      <td>TX</td>\n",
       "      <td>Central</td>\n",
       "      <td>Business</td>\n",
       "      <td>4</td>\n",
       "      <td>TX</td>\n",
       "      <td>TX</td>\n",
       "      <td>True</td>\n",
       "    </tr>\n",
       "    <tr>\n",
       "      <th>8</th>\n",
       "      <td>100</td>\n",
       "      <td>NY</td>\n",
       "      <td>Eastern</td>\n",
       "      <td>120111</td>\n",
       "      <td>Jacksonville</td>\n",
       "      <td>FL</td>\n",
       "      <td>Eastern</td>\n",
       "      <td>Coouples</td>\n",
       "      <td>5</td>\n",
       "      <td>NY</td>\n",
       "      <td>FL</td>\n",
       "      <td>False</td>\n",
       "    </tr>\n",
       "    <tr>\n",
       "      <th>9</th>\n",
       "      <td>100</td>\n",
       "      <td>NY</td>\n",
       "      <td>Eastern</td>\n",
       "      <td>91428</td>\n",
       "      <td>Indianapolis</td>\n",
       "      <td>IN</td>\n",
       "      <td>Eastern</td>\n",
       "      <td>Coouples</td>\n",
       "      <td>4</td>\n",
       "      <td>NY</td>\n",
       "      <td>IN</td>\n",
       "      <td>False</td>\n",
       "    </tr>\n",
       "  </tbody>\n",
       "</table>\n",
       "</div>"
      ],
      "text/plain": [
       "   ID_USER USER_STATE USER_TIMEZONE  ID_HOTEL    HOTEL_CITY HOTEL_STATE  \\\n",
       "0       45         GA       Eastern    105170       Memphis          TN   \n",
       "1       45         GA       Eastern    223229    SanAntonio          TX   \n",
       "2       45         GA       Eastern    258688   Albuquerque          NM   \n",
       "3       45         GA       Eastern     98827        ELPaso          TX   \n",
       "4       45         GA       Eastern     99518    SanAntonio          TX   \n",
       "5       64         TX       Central    224427     Cleveland          OH   \n",
       "6       64         TX       Central   1751886        Austin          TX   \n",
       "7       64         TX       Central     99120       Houston          TX   \n",
       "8      100         NY       Eastern    120111  Jacksonville          FL   \n",
       "9      100         NY       Eastern     91428  Indianapolis          IN   \n",
       "\n",
       "  HOTEL_TIMEZONE Trip Type  Rating USER_STATE_ONLY HOTEL_STATE_ONLY  \\\n",
       "0        Central  Business       5              GA               TN   \n",
       "1        Central  Business       5              GA               TX   \n",
       "2       Mountain  Business       5              GA               NM   \n",
       "3        Central  Business       5              GA               TX   \n",
       "4        Central  Business       3              GA               TX   \n",
       "5        Eastern    Family       4              TX               OH   \n",
       "6        Central  Business       4              TX               TX   \n",
       "7        Central  Business       4              TX               TX   \n",
       "8        Eastern  Coouples       5              NY               FL   \n",
       "9        Eastern  Coouples       4              NY               IN   \n",
       "\n",
       "   IS_SAME_STATE  \n",
       "0          False  \n",
       "1          False  \n",
       "2          False  \n",
       "3          False  \n",
       "4          False  \n",
       "5          False  \n",
       "6           True  \n",
       "7           True  \n",
       "8          False  \n",
       "9          False  "
      ]
     },
     "execution_count": 34,
     "metadata": {},
     "output_type": "execute_result"
    }
   ],
   "source": [
    "df[\"IS_SAME_STATE\"] = df[\"USER_STATE\"] == df[\"HOTEL_STATE\"]\n",
    "df.head(10)"
   ]
  },
  {
   "cell_type": "markdown",
   "id": "68f85d8b",
   "metadata": {},
   "source": [
    "- USER_STATE와 HOTEL_STATE의 지역이 같은 지에 대한 컬럼 생성"
   ]
  },
  {
   "cell_type": "code",
   "execution_count": 35,
   "id": "cf4031f5",
   "metadata": {},
   "outputs": [],
   "source": [
    "# df에서 IS_SAME_STATE 속성이 True인 것만 추출\n",
    "ID_USER_SAME_STATE = df[df[\"IS_SAME_STATE\"] == True]"
   ]
  },
  {
   "cell_type": "markdown",
   "id": "3f5e38c7",
   "metadata": {},
   "source": [
    "- IS_SAME_STATE == True인 유저의 id가 담긴 ID_USER_SAME_STATE 리스트 생성"
   ]
  },
  {
   "cell_type": "code",
   "execution_count": 36,
   "id": "8a4d68d6",
   "metadata": {},
   "outputs": [],
   "source": [
    "# df에서 IS_DIFF_STATE 속성이 False인 것만 추출\n",
    "ID_USER_DIFF_STATE = df[df[\"IS_SAME_STATE\"] == False]"
   ]
  },
  {
   "cell_type": "markdown",
   "id": "56e1751d",
   "metadata": {},
   "source": [
    "- IS_SAME_STATE == False인 유저의 id가 담긴 ID_USER_DIFF_STATE 리스트 생성"
   ]
  },
  {
   "cell_type": "code",
   "execution_count": 37,
   "id": "76874925",
   "metadata": {},
   "outputs": [
    {
     "name": "stdout",
     "output_type": "stream",
     "text": [
      "521\n",
      "1057\n"
     ]
    }
   ],
   "source": [
    "# ID_USER_SAME_STATE와 ID_USER_DIFF_STATE에서 ID_USER 속성에 대해 중복된 데이터 제거\n",
    "ID_USER_SAME_STATE = ID_USER_SAME_STATE.drop_duplicates(subset=[\"ID_USER\"])\n",
    "ID_USER_DIFF_STATE = ID_USER_DIFF_STATE.drop_duplicates(subset=[\"ID_USER\"])\n",
    "\n",
    "print(len(ID_USER_SAME_STATE['ID_USER']))\n",
    "print(len(ID_USER_DIFF_STATE['ID_USER']))"
   ]
  },
  {
   "cell_type": "markdown",
   "id": "8b82dd0c",
   "metadata": {},
   "source": [
    "- 자신이 사는 주와 같은 곳으로 여행을 가본 사람은 521명이다.\n",
    "- 자신이 사는 주와 다른 곳으로 여행을 가본 사람은 1057명이다.\n",
    "\n",
    "-> 사람들은 자신이 거주한 주 이외의 주에 방문할 가능성이 높다."
   ]
  },
  {
   "cell_type": "markdown",
   "id": "7b76a39d",
   "metadata": {},
   "source": [
    "<결론>\n",
    "\n",
    "- 상관관계와 유사성을 둘 다 분석해 본 결과, 더 넓은 범위인 시간대에서는 자신이 거주한 시간대와 같은 시간대에 위치한 호텔에 방문하지만, 좁은 범위인 주에 대해서는 자신이 거주한 주와 다른 주에 위치한 호텔에 방문한다."
   ]
  },
  {
   "cell_type": "code",
   "execution_count": null,
   "id": "0669aa14",
   "metadata": {},
   "outputs": [],
   "source": []
  },
  {
   "cell_type": "markdown",
   "id": "54ce52e5",
   "metadata": {},
   "source": [
    "### 기타 분석"
   ]
  },
  {
   "cell_type": "markdown",
   "id": "60638449",
   "metadata": {},
   "source": [
    "#### 1) 호텔이 위치한 도시와 여행 유형 간의 분석"
   ]
  },
  {
   "cell_type": "code",
   "execution_count": 38,
   "id": "8f265163",
   "metadata": {},
   "outputs": [
    {
     "name": "stdout",
     "output_type": "stream",
     "text": [
      "가장 많은 방문을 기록한 여행 유형은 Business이고, 그 지역은 Houston이다.\n"
     ]
    }
   ],
   "source": [
    "# 여행 유형별로 호텔 방문 건수 계산\n",
    "hotel_trip = df.groupby(['Trip Type', 'HOTEL_CITY']).size().reset_index(name='visit_count')\n",
    "\n",
    "# 가장 많이 방문한 여행 유형과 지역 추출\n",
    "most_visited = hotel_trip.sort_values(by='visit_count', ascending=False).iloc[0]\n",
    "print(f\"가장 많은 방문을 기록한 여행 유형은 {most_visited['Trip Type']}이고, 그 지역은 {most_visited['HOTEL_CITY']}이다.\")"
   ]
  },
  {
   "cell_type": "markdown",
   "id": "de34fb6a",
   "metadata": {},
   "source": [
    "#### 2) 호텔이 위치한 도시와 평균 평가 점수 간의 분석"
   ]
  },
  {
   "cell_type": "code",
   "execution_count": 39,
   "id": "75b514d9",
   "metadata": {},
   "outputs": [
    {
     "name": "stdout",
     "output_type": "stream",
     "text": [
      "가장 높은 평가를 받은 지역은 Boston이고, 평균 평가 점수는 4.5이다.\n"
     ]
    }
   ],
   "source": [
    "# 호텔 위치별 평균 평가 점수 계산\n",
    "hotel_rating = df.groupby('HOTEL_CITY')['Rating'].mean().reset_index(name='mean_rating')\n",
    "\n",
    "# 가장 높은 평가를 받은 지역 추출\n",
    "best_rated = hotel_rating.sort_values(by='mean_rating', ascending=False).iloc[0]\n",
    "print(f\"가장 높은 평가를 받은 지역은 {best_rated['HOTEL_CITY']}이고, 평균 평가 점수는 {best_rated['mean_rating']}이다.\")"
   ]
  },
  {
   "cell_type": "markdown",
   "id": "5012cad5",
   "metadata": {},
   "source": [
    "#### 3) 유저 ID와 방문한 지역의 수 간의 분석"
   ]
  },
  {
   "cell_type": "code",
   "execution_count": 40,
   "id": "f9d71f10",
   "metadata": {},
   "outputs": [
    {
     "name": "stdout",
     "output_type": "stream",
     "text": [
      "가장 많은 지역을 방문한 유저의 ID는 40423이고, 방문한 지역의 수는 14이다.\n"
     ]
    }
   ],
   "source": [
    "# 유저별로 방문한 지역의 종류 수 계산\n",
    "user_city = df.groupby('ID_USER')['HOTEL_CITY'].nunique().reset_index(name='num_cities')\n",
    "\n",
    "# 가장 많은 지역을 방문한 유저 추출\n",
    "most_traveler = user_city.sort_values(by='num_cities', ascending=False).iloc[0]\n",
    "print(f\"가장 많은 지역을 방문한 유저의 ID는 {most_traveler['ID_USER']}이고, 방문한 지역의 수는 {most_traveler['num_cities']}이다.\")"
   ]
  }
 ],
 "metadata": {
  "kernelspec": {
   "display_name": "Python 3 (ipykernel)",
   "language": "python",
   "name": "python3"
  },
  "language_info": {
   "codemirror_mode": {
    "name": "ipython",
    "version": 3
   },
   "file_extension": ".py",
   "mimetype": "text/x-python",
   "name": "python",
   "nbconvert_exporter": "python",
   "pygments_lexer": "ipython3",
   "version": "3.9.12"
  }
 },
 "nbformat": 4,
 "nbformat_minor": 5
}
