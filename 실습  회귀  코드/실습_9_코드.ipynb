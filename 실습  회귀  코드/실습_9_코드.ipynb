{
 "cells": [
  {
   "cell_type": "markdown",
   "id": "228ab3cb",
   "metadata": {},
   "source": [
    "### 주택 데이터셋을 사용한 비선형 관계 모델링"
   ]
  },
  {
   "cell_type": "code",
   "execution_count": 15,
   "id": "c43840b8",
   "metadata": {},
   "outputs": [
    {
     "data": {
      "text/html": [
       "<div>\n",
       "<style scoped>\n",
       "    .dataframe tbody tr th:only-of-type {\n",
       "        vertical-align: middle;\n",
       "    }\n",
       "\n",
       "    .dataframe tbody tr th {\n",
       "        vertical-align: top;\n",
       "    }\n",
       "\n",
       "    .dataframe thead th {\n",
       "        text-align: right;\n",
       "    }\n",
       "</style>\n",
       "<table border=\"1\" class=\"dataframe\">\n",
       "  <thead>\n",
       "    <tr style=\"text-align: right;\">\n",
       "      <th></th>\n",
       "      <th>CRIM</th>\n",
       "      <th>ZN</th>\n",
       "      <th>INDUS</th>\n",
       "      <th>CHAS</th>\n",
       "      <th>NOX</th>\n",
       "      <th>RM</th>\n",
       "      <th>AGE</th>\n",
       "      <th>DIS</th>\n",
       "      <th>RAD</th>\n",
       "      <th>TAX</th>\n",
       "      <th>PTRATIO</th>\n",
       "      <th>B</th>\n",
       "      <th>LSTAT</th>\n",
       "      <th>MEDV</th>\n",
       "    </tr>\n",
       "  </thead>\n",
       "  <tbody>\n",
       "    <tr>\n",
       "      <th>0</th>\n",
       "      <td>0.00632</td>\n",
       "      <td>18.0</td>\n",
       "      <td>2.31</td>\n",
       "      <td>0</td>\n",
       "      <td>0.538</td>\n",
       "      <td>6.575</td>\n",
       "      <td>65.2</td>\n",
       "      <td>4.0900</td>\n",
       "      <td>1</td>\n",
       "      <td>296.0</td>\n",
       "      <td>15.3</td>\n",
       "      <td>396.90</td>\n",
       "      <td>4.98</td>\n",
       "      <td>24.0</td>\n",
       "    </tr>\n",
       "    <tr>\n",
       "      <th>1</th>\n",
       "      <td>0.02731</td>\n",
       "      <td>0.0</td>\n",
       "      <td>7.07</td>\n",
       "      <td>0</td>\n",
       "      <td>0.469</td>\n",
       "      <td>6.421</td>\n",
       "      <td>78.9</td>\n",
       "      <td>4.9671</td>\n",
       "      <td>2</td>\n",
       "      <td>242.0</td>\n",
       "      <td>17.8</td>\n",
       "      <td>396.90</td>\n",
       "      <td>9.14</td>\n",
       "      <td>21.6</td>\n",
       "    </tr>\n",
       "    <tr>\n",
       "      <th>2</th>\n",
       "      <td>0.02729</td>\n",
       "      <td>0.0</td>\n",
       "      <td>7.07</td>\n",
       "      <td>0</td>\n",
       "      <td>0.469</td>\n",
       "      <td>7.185</td>\n",
       "      <td>61.1</td>\n",
       "      <td>4.9671</td>\n",
       "      <td>2</td>\n",
       "      <td>242.0</td>\n",
       "      <td>17.8</td>\n",
       "      <td>392.83</td>\n",
       "      <td>4.03</td>\n",
       "      <td>34.7</td>\n",
       "    </tr>\n",
       "    <tr>\n",
       "      <th>3</th>\n",
       "      <td>0.03237</td>\n",
       "      <td>0.0</td>\n",
       "      <td>2.18</td>\n",
       "      <td>0</td>\n",
       "      <td>0.458</td>\n",
       "      <td>6.998</td>\n",
       "      <td>45.8</td>\n",
       "      <td>6.0622</td>\n",
       "      <td>3</td>\n",
       "      <td>222.0</td>\n",
       "      <td>18.7</td>\n",
       "      <td>394.63</td>\n",
       "      <td>2.94</td>\n",
       "      <td>33.4</td>\n",
       "    </tr>\n",
       "    <tr>\n",
       "      <th>4</th>\n",
       "      <td>0.06905</td>\n",
       "      <td>0.0</td>\n",
       "      <td>2.18</td>\n",
       "      <td>0</td>\n",
       "      <td>0.458</td>\n",
       "      <td>7.147</td>\n",
       "      <td>54.2</td>\n",
       "      <td>6.0622</td>\n",
       "      <td>3</td>\n",
       "      <td>222.0</td>\n",
       "      <td>18.7</td>\n",
       "      <td>396.90</td>\n",
       "      <td>5.33</td>\n",
       "      <td>36.2</td>\n",
       "    </tr>\n",
       "  </tbody>\n",
       "</table>\n",
       "</div>"
      ],
      "text/plain": [
       "      CRIM    ZN  INDUS  CHAS    NOX     RM   AGE     DIS  RAD    TAX  \\\n",
       "0  0.00632  18.0   2.31     0  0.538  6.575  65.2  4.0900    1  296.0   \n",
       "1  0.02731   0.0   7.07     0  0.469  6.421  78.9  4.9671    2  242.0   \n",
       "2  0.02729   0.0   7.07     0  0.469  7.185  61.1  4.9671    2  242.0   \n",
       "3  0.03237   0.0   2.18     0  0.458  6.998  45.8  6.0622    3  222.0   \n",
       "4  0.06905   0.0   2.18     0  0.458  7.147  54.2  6.0622    3  222.0   \n",
       "\n",
       "   PTRATIO       B  LSTAT  MEDV  \n",
       "0     15.3  396.90   4.98  24.0  \n",
       "1     17.8  396.90   9.14  21.6  \n",
       "2     17.8  392.83   4.03  34.7  \n",
       "3     18.7  394.63   2.94  33.4  \n",
       "4     18.7  396.90   5.33  36.2  "
      ]
     },
     "execution_count": 15,
     "metadata": {},
     "output_type": "execute_result"
    }
   ],
   "source": [
    "# 주택 데이터셋 로드\n",
    "import pandas as pd\n",
    "\n",
    "df = pd.read_csv('https://raw.githubusercontent.com/rasbt/'\n",
    "                 'python-machine-learning-book-3rd-edition/'\n",
    "                 'master/ch10/housing.data.txt',\n",
    "                 header=None,\n",
    "                 sep='\\s+')\n",
    "\n",
    "df.columns = ['CRIM', 'ZN', 'INDUS', 'CHAS', \n",
    "              'NOX', 'RM', 'AGE', 'DIS', 'RAD', \n",
    "              'TAX', 'PTRATIO', 'B', 'LSTAT', 'MEDV']\n",
    "df.head()"
   ]
  },
  {
   "cell_type": "code",
   "execution_count": 16,
   "id": "4d985e9e",
   "metadata": {},
   "outputs": [],
   "source": [
    "from sklearn.linear_model import LinearRegression\n",
    "\n",
    "X = df[['LSTAT']].values\n",
    "y = df['MEDV'].values\n",
    "\n",
    "regr = LinearRegression()"
   ]
  },
  {
   "cell_type": "code",
   "execution_count": 17,
   "id": "b4f37764",
   "metadata": {},
   "outputs": [],
   "source": [
    "from sklearn.preprocessing import PolynomialFeatures\n",
    "\n",
    "# 이차, 삼차 다항식 특성을 만듭니다\n",
    "quadratic = PolynomialFeatures(degree=2)\n",
    "cubic = PolynomialFeatures(degree=3)\n",
    "X_quad = quadratic.fit_transform(X)\n",
    "X_cubic = cubic.fit_transform(X)"
   ]
  },
  {
   "cell_type": "code",
   "execution_count": 18,
   "id": "a03babbd",
   "metadata": {},
   "outputs": [],
   "source": [
    "import numpy as np\n",
    "from sklearn.metrics import r2_score\n",
    "\n",
    "# 학습된 모델을 그리기 위해 특성 범위를 만듭니다\n",
    "X_fit = np.arange(X.min(), X.max(), 1)[:, np.newaxis]\n",
    "\n",
    "regr = regr.fit(X, y)\n",
    "y_lin_fit = regr.predict(X_fit)\n",
    "linear_r2 = r2_score(y, regr.predict(X))\n",
    "\n",
    "regr = regr.fit(X_quad, y)\n",
    "y_quad_fit = regr.predict(quadratic.fit_transform(X_fit))\n",
    "quadratic_r2 = r2_score(y, regr.predict(X_quad))\n",
    "\n",
    "regr = regr.fit(X_cubic, y)\n",
    "y_cubic_fit = regr.predict(cubic.fit_transform(X_fit))\n",
    "cubic_r2 = r2_score(y, regr.predict(X_cubic))"
   ]
  },
  {
   "cell_type": "code",
   "execution_count": null,
   "id": "4f4382ca",
   "metadata": {},
   "outputs": [],
   "source": []
  },
  {
   "cell_type": "code",
   "execution_count": 19,
   "id": "b22d762e",
   "metadata": {},
   "outputs": [
    {
     "data": {
      "image/png": "[encoded data removed]",
      "text/plain": [
       "<Figure size 432x288 with 1 Axes>"
      ]
     },
     "metadata": {
      "needs_background": "light"
     },
     "output_type": "display_data"
    }
   ],
   "source": [
    "import matplotlib.pyplot as plt\n",
    "\n",
    "# 결과 그래프를 그립니다\n",
    "plt.scatter(X, y, label='Training points', color='lightgray')\n",
    "\n",
    "plt.plot(X_fit, y_lin_fit, \n",
    "         label='Linear (d=1), $R^2=%.2f$' % linear_r2, \n",
    "         color='blue', \n",
    "         lw=2, \n",
    "         linestyle=':')\n",
    "\n",
    "plt.plot(X_fit, y_quad_fit, \n",
    "         label='Quadratic (d=2), $R^2=%.2f$' % quadratic_r2,\n",
    "         color='red', \n",
    "         lw=2,\n",
    "         linestyle='-')\n",
    "\n",
    "plt.plot(X_fit, y_cubic_fit, \n",
    "         label='Cubic (d=3), $R^2=%.2f$' % cubic_r2,\n",
    "         color='green', \n",
    "         lw=2, \n",
    "         linestyle='--')\n",
    "\n",
    "plt.xlabel('% lower status of the population [LSTAT]')\n",
    "plt.ylabel('Price in $1000s [MEDV]')\n",
    "plt.legend(loc='upper right')\n",
    "plt.show()"
   ]
  },
  {
   "cell_type": "code",
   "execution_count": null,
   "id": "059d8680",
   "metadata": {},
   "outputs": [],
   "source": []
  },
  {
   "cell_type": "code",
   "execution_count": 29,
   "id": "df7d60f8",
   "metadata": {},
   "outputs": [],
   "source": [
    "# 특성을 변환합니다\n",
    "X_log = np.log(X)\n",
    "y_sqrt = np.sqrt(y)\n",
    "\n",
    "# 학습된 모델을 그리기 위해 특성 범위를 만듭니다\n",
    "X_fit = np.arange(X_log.min()-1, \n",
    "                  X_log.max()+1, 1)[:, np.newaxis]\n",
    "\n",
    "regr = regr.fit(X_log, y_sqrt)\n",
    "y_lin_fit = regr.predict(X_fit)\n",
    "linear_r2 = r2_score(y_sqrt, regr.predict(X_log))"
   ]
  },
  {
   "cell_type": "code",
   "execution_count": 30,
   "id": "c3e33292",
   "metadata": {},
   "outputs": [
    {
     "data": {
      "image/png": "[encoded data removed]",
      "text/plain": [
       "<Figure size 432x288 with 1 Axes>"
      ]
     },
     "metadata": {
      "needs_background": "light"
     },
     "output_type": "display_data"
    }
   ],
   "source": [
    "# 결과 그래프를 그립니다\n",
    "plt.scatter(X_log, y_sqrt, \n",
    "            label='Training points', \n",
    "            color='lightgray')\n",
    "\n",
    "plt.plot(X_fit, y_lin_fit, \n",
    "         label='Linear (d=1), $R^2=%.2f$' % linear_r2, \n",
    "         color='blue', \n",
    "         lw=2)\n",
    "\n",
    "plt.xlabel('log(% lower status of the population [LSTAT])')\n",
    "plt.ylabel('$\\sqrt{Price \\; in \\; \\$1000s \\; [MEDV]}$')\n",
    "plt.legend(loc='lower left')\n",
    "plt.tight_layout()\n",
    "plt.show()"
   ]
  },
  {
   "cell_type": "code",
   "execution_count": null,
   "id": "23096fcc",
   "metadata": {},
   "outputs": [],
   "source": []
  },
  {
   "cell_type": "markdown",
   "id": "fc80680e",
   "metadata": {},
   "source": [
    "### LAB"
   ]
  },
  {
   "cell_type": "code",
   "execution_count": 31,
   "id": "da7cfd31",
   "metadata": {},
   "outputs": [],
   "source": [
    "from sklearn.model_selection import train_test_split\n",
    "\n",
    "X = df[['RM', 'LSTAT']].values\n",
    "y = df['MEDV'].values\n",
    "\n",
    "X_train, X_test, y_train, y_test = train_test_split(\n",
    "    X, y, test_size=0.3, random_state=0)"
   ]
  },
  {
   "cell_type": "code",
   "execution_count": 32,
   "id": "ab0dff84",
   "metadata": {},
   "outputs": [],
   "source": [
    "# RM만\n",
    "X_train_RM = X_train[:, 0].reshape(-1, 1)\n",
    "X_test_RM = X_test[:, 0].reshape(-1, 1)\n",
    "\n",
    "# LSTAT만\n",
    "X_train_LSTAT = X_train[:, 1].reshape(-1, 1)\n",
    "X_test_LSTAT = X_test[:, 1].reshape(-1, 1)"
   ]
  },
  {
   "cell_type": "code",
   "execution_count": 33,
   "id": "fdf540ee",
   "metadata": {},
   "outputs": [],
   "source": [
    "def make_train_features(X_train, y_train):\n",
    "    X_train_quad = X_train_quad = quadratic.fit_transform(X_train) # 이차 다항\n",
    "    X_train_cubic = cubic.fit_transform(X_train) # 삼차 다항\n",
    "    X_train_log = np.log(X_train) # 로그 변환\n",
    "    y_train_sqrt = np.sqrt(y_train) # 로그 변환\n",
    "    return X_train_quad, X_train_cubic, X_train_log, y_train_sqrt\n",
    "\n",
    "def make_test_features(X_test, y_test):\n",
    "    X_test_quad = quadratic.transform(X_test) # 이차 다항\n",
    "    X_test_cubic = cubic.transform(X_test) # 삼차 다항\n",
    "    X_test_log = np.log(X_test) # 로그 변환\n",
    "    y_test_sqrt = np.sqrt(y_test) # 로그 변환     \n",
    "    return X_test_quad, X_test_cubic, X_test_log, y_test_sqrt"
   ]
  },
  {
   "cell_type": "code",
   "execution_count": 34,
   "id": "d3288965",
   "metadata": {},
   "outputs": [],
   "source": [
    "from sklearn.preprocessing import PolynomialFeatures\n",
    "\n",
    "# 이차, 삼차 다항식 특성을 만듭니다\n",
    "quadratic = PolynomialFeatures(degree=2)\n",
    "cubic = PolynomialFeatures(degree=3)\n",
    "\n",
    "X_train_quad, X_train_cubic, X_train_log, y_train_sqrt = make_train_features(X_train, y_train)\n",
    "X_test_quad, X_test_cubic, X_test_log, y_test_sqrt = make_train_features(X_test, y_test)"
   ]
  },
  {
   "cell_type": "code",
   "execution_count": null,
   "id": "05684f7e",
   "metadata": {},
   "outputs": [],
   "source": []
  },
  {
   "cell_type": "markdown",
   "id": "98235eaf",
   "metadata": {},
   "source": [
    "### RM, LSTAT 모두 사용"
   ]
  },
  {
   "cell_type": "code",
   "execution_count": 35,
   "id": "17d2467f",
   "metadata": {},
   "outputs": [],
   "source": [
    "import numpy as np\n",
    "from sklearn.metrics import r2_score\n",
    "import matplotlib.pyplot as plt\n",
    "from sklearn.linear_model import LinearRegression\n",
    "\n",
    "regr = LinearRegression()\n",
    "\n",
    "# 선형 모델\n",
    "regr = regr.fit(X_train, y_train)\n",
    "linear_r2_test = r2_score(y_test, regr.predict(X_test))\n",
    "\n",
    "# 이차 다항 모델\n",
    "regr = regr.fit(X_train_quad, y_train)\n",
    "quadratic_r2_test = r2_score(y_test, regr.predict(X_test_quad))\n",
    "\n",
    "# 삼차 다항 모델\n",
    "regr = regr.fit(X_train_cubic, y_train)\n",
    "cubic_r2_test = r2_score(y_test, regr.predict(X_test_cubic))\n",
    "\n",
    "# 로그 변환 모델\n",
    "regr = regr.fit(X_train_log, y_train_sqrt)\n",
    "log_r2_test = r2_score(y_test_sqrt, regr.predict(X_test_log))"
   ]
  },
  {
   "cell_type": "markdown",
   "id": "4666b5de",
   "metadata": {},
   "source": [
    "### RM 만 사용"
   ]
  },
  {
   "cell_type": "code",
   "execution_count": 36,
   "id": "24565378",
   "metadata": {},
   "outputs": [],
   "source": [
    "X_train_RM_quad, X_train_RM_cubic, X_train_RM_log, y_train_RM_sqrt = make_train_features(X_train_RM, y_train)\n",
    "X_test_RM_quad, X_test_RM_cubic, X_test_RM_log, y_test_RM_sqrt = make_train_features(X_test_RM, y_test)\n",
    "\n",
    "# 선형 모델\n",
    "regr = regr.fit(X_train_RM, y_train)\n",
    "linear_r2_test_RM = r2_score(y_test, regr.predict(X_test_RM))\n",
    "\n",
    "# 이차 다항 모델\n",
    "regr = regr.fit(X_train_RM_quad, y_train)\n",
    "quadratic_r2_test_RM = r2_score(y_test, regr.predict(X_test_RM_quad))\n",
    "\n",
    "# 삼차 다항 모델\n",
    "regr = regr.fit(X_train_RM_cubic, y_train)\n",
    "cubic_r2_test_RM = r2_score(y_test, regr.predict(X_test_RM_cubic))\n",
    "\n",
    "# 로그 변환 모델\n",
    "regr = regr.fit(X_train_RM_log, y_train_RM_sqrt)\n",
    "log_r2_test_RM = r2_score(y_test_RM_sqrt, regr.predict(X_test_RM_log))"
   ]
  },
  {
   "cell_type": "markdown",
   "id": "45131075",
   "metadata": {},
   "source": [
    "### LSTAT 만 사용"
   ]
  },
  {
   "cell_type": "code",
   "execution_count": 37,
   "id": "7650d762",
   "metadata": {},
   "outputs": [],
   "source": [
    "X_train_LSTAT_quad, X_train_LSTAT_cubic, X_train_LSTAT_log, y_train_LSTAT_sqrt = make_train_features(X_train_LSTAT, y_train)\n",
    "X_test_LSTAT_quad, X_test_LSTAT_cubic, X_test_LSTAT_log, y_test_LSTAT_sqrt = make_train_features(X_test_LSTAT, y_test)\n",
    " \n",
    "# 선형 모델\n",
    "regr = regr.fit(X_train_LSTAT, y_train)\n",
    "linear_r2_test_LSTAT = r2_score(y_test, regr.predict(X_test_LSTAT))\n",
    "\n",
    "# 이차 다항 모델\n",
    "regr = regr.fit(X_train_LSTAT_quad, y_train)\n",
    "quadratic_r2_test_LSTAT = r2_score(y_test, regr.predict(X_test_LSTAT_quad))\n",
    "\n",
    "# 삼차 다항 모델\n",
    "regr = regr.fit(X_train_LSTAT_cubic, y_train)\n",
    "cubic_r2_test_LSTAT = r2_score(y_test, regr.predict(X_test_LSTAT_cubic))\n",
    "\n",
    "# 로그 변환 모델\n",
    "regr = regr.fit(X_train_LSTAT_log, y_train_LSTAT_sqrt)\n",
    "log_r2_test_LSTAT = r2_score(y_test_LSTAT_sqrt, regr.predict(X_test_LSTAT_log))"
   ]
  },
  {
   "cell_type": "code",
   "execution_count": null,
   "id": "9a4d477d",
   "metadata": {},
   "outputs": [],
   "source": []
  },
  {
   "cell_type": "code",
   "execution_count": 38,
   "id": "6c6becc1",
   "metadata": {},
   "outputs": [
    {
     "name": "stdout",
     "output_type": "stream",
     "text": [
      "---------RM과 LSTAT 특성 사용---------\n",
      "선형 모델: 0.6069792285352371\n",
      "이차 다항 모델: 0.7141004599281672\n",
      "삼차 다항 모델: 0.7096426755514486\n",
      "로그 변환 모델: 0.6667216085812738\n",
      "\n",
      "---------RM만 사용---------\n",
      "RM만 사용) 선형 모델: 0.43514364832115193\n",
      "RM만 사용) 이차 다항 모델: 0.5091378251168543\n",
      "RM만 사용) 삼차 다항 모델: 0.5049156410773732\n",
      "RM만 사용) 로그 변환 모델: 0.3589478168470216\n",
      "\n",
      "---------LSTAT만 사용---------\n",
      "LSTAT만 사용) 선형 모델: 0.5218049526125568\n",
      "LSTAT만 사용) 이차 다항 모델: 0.5964427754767518\n",
      "LSTAT만 사용) 삼차 다항 모델: 0.6145861618613087\n",
      "LSTAT만 사용) 로그 변환 모델: 0.6637941238941023\n"
     ]
    }
   ],
   "source": [
    "print('---------RM과 LSTAT 특성 사용---------')\n",
    "print('선형 모델:', linear_r2_test)\n",
    "print('이차 다항 모델:', quadratic_r2_test)\n",
    "print('삼차 다항 모델:', cubic_r2_test)\n",
    "print('로그 변환 모델:', log_r2_test)\n",
    "print('\\n---------RM만 사용---------')\n",
    "print('RM만 사용) 선형 모델:', linear_r2_test_RM)\n",
    "print('RM만 사용) 이차 다항 모델:', quadratic_r2_test_RM)\n",
    "print('RM만 사용) 삼차 다항 모델:', cubic_r2_test_RM)\n",
    "print('RM만 사용) 로그 변환 모델:', log_r2_test_RM)\n",
    "print('\\n---------LSTAT만 사용---------')\n",
    "print('LSTAT만 사용) 선형 모델:', linear_r2_test_LSTAT)\n",
    "print('LSTAT만 사용) 이차 다항 모델:', quadratic_r2_test_LSTAT)\n",
    "print('LSTAT만 사용) 삼차 다항 모델:', cubic_r2_test_LSTAT)\n",
    "print('LSTAT만 사용) 로그 변환 모델:', log_r2_test_LSTAT)"
   ]
  },
  {
   "cell_type": "code",
   "execution_count": null,
   "id": "b86565ac",
   "metadata": {},
   "outputs": [],
   "source": []
  },
  {
   "cell_type": "code",
   "execution_count": null,
   "id": "df7fb017",
   "metadata": {},
   "outputs": [],
   "source": []
  }
 ],
 "metadata": {
  "kernelspec": {
   "display_name": "Python 3 (ipykernel)",
   "language": "python",
   "name": "python3"
  },
  "language_info": {
   "codemirror_mode": {
    "name": "ipython",
    "version": 3
   },
   "file_extension": ".py",
   "mimetype": "text/x-python",
   "name": "python",
   "nbconvert_exporter": "python",
   "pygments_lexer": "ipython3",
   "version": "3.9.12"
  }
 },
 "nbformat": 4,
 "nbformat_minor": 5
}
